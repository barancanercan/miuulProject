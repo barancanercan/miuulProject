{
 "cells": [
  {
   "cell_type": "code",
   "execution_count": 1,
   "metadata": {
    "collapsed": true,
    "pycharm": {
     "name": "#%%\n"
    }
   },
   "outputs": [],
   "source": [
    "import pandas as pd"
   ]
  },
  {
   "cell_type": "markdown",
   "source": [
    "# Proje Görevleri\n",
    "\n",
    "## Görev 1: Aşağıdaki Soruları Yanıtlayınız\n",
    "\n",
    "Soru 1: persona.csvdosyasını okutunuz ve veri seti ile ilgili genel bilgileri gösteriniz.\n",
    "Soru 2: Kaç unique SOURCE vardır? Frekansları nedir?\n",
    "Soru 3: Kaç unique PRICE vardır?\n",
    "Soru 4: Hangi PRICE'dan kaçar tane satış gerçekleşmiş?\n",
    "Soru 5: Hangi ülkeden kaçar tane satış olmuş?\n",
    "Soru 6: Ülkelere göre satışlardan toplam ne kadar kazanılmış?\n",
    "Soru 7: SOURCE türlerine göre satış sayıları nedir?\n",
    "Soru 8: Ülkelere göre PRICE ortalamaları nedir?\n",
    "Soru 9: SOURCE'laragöre PRICE ortalamaları nedir?\n",
    "Soru 10: COUNTRY-SOURCE kırılımında PRICE ortalamaları nedir?\n",
    "\n",
    "## Görev 2: COUNTRY, SOURCE, SEX, AGE kırılımın aortalama kazançlar nedir?\n",
    "\n",
    "## Görev 3: Çıktıyı PRICE’a göre sıralayınız.\n",
    "\n",
    "Önceki sorudaki çıktıyı daha iyi görebilmek için sort_values metodunu azalan olacak şekilde PRICE’agöre uygulayınız.\n",
    "Çıktıyı agg_df olarak kaydediniz.\n",
    "\n",
    "## Görev 4: Indekste yer alan isimleri değişken ismine çeviriniz.\n",
    "\n",
    "reset_index()\n",
    "\n",
    "## Görev 5: Age değişkenini kategorik değişkene çeviriniz ve agg_df’eekleyiniz.\n",
    "\n",
    "Age sayısal değişkenini kategorik değişkene çeviriniz.\n",
    "Aralıkları ikna edici şekilde oluşturunuz.\n",
    "Örneğin: ‘0_18', ‘19_23', '24_30', '31_40', '41_70'\n",
    "\n",
    "## Görev 6: Yeni seviye tabanlı müşterileri (persona) tanımlayınız.\n",
    "\n",
    "Yeni seviye tabanlı müşterileri (persona) tanımlayınız ve veri setine değişken olarak ekleyiniz.\n",
    "Yeni eklenecek değişkenin adı: customers_level_based\n",
    "Önceki soruda elde edeceğiniz çıktıdaki gözlemleri bir araya getirerek customers_level_based değişkenini oluşturmanız gerekmektedir.\n",
    "\n",
    "Dikkat! Listcomprehensionile customers_level_baseddeğerleri oluşturulduktan sonra bu değerlerin tekilleştirilmesi gerekmektedir.\n",
    "Örneğin birden fazla şu ifadeden olabilir: USA_ANDROID_MALE_0_18. Bunları groupby'aalıp priceortalamalarını almak gerekmektedir.\n",
    "\n",
    "## Görev 7: Yeni müşterileri (personaları) segmentlereayırınız.\n",
    "\n",
    "Yeni müşterileri (Örnek: USA_ANDROID_MALE_0_18) PRICE’agöre 4 segmente ayırınız.\n",
    "Segmentleri SEGMENT isimlendirmesi ile değişken olarak agg_df’eekleyiniz.\n",
    "Segmentleri betimleyiniz (Segmentleregöre groupbyyapıp pricemean, max, sum’larınıalınız).\n",
    "\n",
    "İPUCU: pd.qcut(agg_df[\"PRICE\"], 4, labels = [\"D\",\"C\",\"B\",\"A\"]\n",
    "\n",
    "## Görev 8: Yeni gelen müşterileri sınıflandırıp, ne kadar gelir getirebileceklerini  tahmin ediniz.\n",
    "\n",
    "33 yaşında ANDROID kullanan bir Türk kadını hangi segmenteaittir ve ortalama ne kadar gelir kazandırması beklenir?\n",
    "35 yaşında IOS kullanan bir Fransız kadını hangi segmenteaittir ve ortalama ne kadar gelir kazandırması beklenir?\n",
    "\n",
    "İPUCU:\n",
    "\n",
    "new_user = \"TUR_ANDROID_FEMALE_31_40\"\n",
    "agg_df[agg_df[\"customers_level_based\"] == new_user]"
   ],
   "metadata": {
    "collapsed": false,
    "pycharm": {
     "name": "#%% md\n"
    }
   }
  },
  {
   "cell_type": "markdown",
   "source": [
    "## Görev 1: Aşağıdaki Soruları Yanıtlayınız\n",
    "\n",
    "Soru 1: persona.csv dosyasını okutunuz ve veri seti ile ilgili genel bilgileri gösteriniz.\n",
    "Soru 2: Kaç unique SOURCE vardır? Frekansları nedir?\n",
    "Soru 3: Kaç unique PRICE vardır?\n",
    "Soru 4: Hangi PRICE'dan kaçar tane satış gerçekleşmiş?\n",
    "Soru 5: Hangi ülkeden kaçar tane satış olmuş?\n",
    "Soru 6: Ülkelere göre satışlardan toplam ne kadar kazanılmış?\n",
    "Soru 7: SOURCE türlerine göre satış sayıları nedir?\n",
    "Soru 8: Ülkelere göre PRICE ortalamaları nedir?\n",
    "Soru 9: SOURCE'laragöre PRICE ortalamaları nedir?\n",
    "Soru 10: COUNTRY-SOURCE kırılımında PRICE ortalamaları nedir?"
   ],
   "metadata": {
    "collapsed": false,
    "pycharm": {
     "name": "#%% md\n"
    }
   }
  },
  {
   "cell_type": "code",
   "execution_count": 4,
   "outputs": [
    {
     "data": {
      "text/plain": "   PRICE   SOURCE   SEX COUNTRY  AGE\n0     39  android  male     bra   17\n1     39  android  male     bra   17\n2     49  android  male     bra   17\n3     29  android  male     tur   17\n4     49  android  male     tur   17",
      "text/html": "<div>\n<style scoped>\n    .dataframe tbody tr th:only-of-type {\n        vertical-align: middle;\n    }\n\n    .dataframe tbody tr th {\n        vertical-align: top;\n    }\n\n    .dataframe thead th {\n        text-align: right;\n    }\n</style>\n<table border=\"1\" class=\"dataframe\">\n  <thead>\n    <tr style=\"text-align: right;\">\n      <th></th>\n      <th>PRICE</th>\n      <th>SOURCE</th>\n      <th>SEX</th>\n      <th>COUNTRY</th>\n      <th>AGE</th>\n    </tr>\n  </thead>\n  <tbody>\n    <tr>\n      <th>0</th>\n      <td>39</td>\n      <td>android</td>\n      <td>male</td>\n      <td>bra</td>\n      <td>17</td>\n    </tr>\n    <tr>\n      <th>1</th>\n      <td>39</td>\n      <td>android</td>\n      <td>male</td>\n      <td>bra</td>\n      <td>17</td>\n    </tr>\n    <tr>\n      <th>2</th>\n      <td>49</td>\n      <td>android</td>\n      <td>male</td>\n      <td>bra</td>\n      <td>17</td>\n    </tr>\n    <tr>\n      <th>3</th>\n      <td>29</td>\n      <td>android</td>\n      <td>male</td>\n      <td>tur</td>\n      <td>17</td>\n    </tr>\n    <tr>\n      <th>4</th>\n      <td>49</td>\n      <td>android</td>\n      <td>male</td>\n      <td>tur</td>\n      <td>17</td>\n    </tr>\n  </tbody>\n</table>\n</div>"
     },
     "execution_count": 4,
     "metadata": {},
     "output_type": "execute_result"
    }
   ],
   "source": [
    "df = pd.read_csv(\"persona.csv\")\n",
    "df.head()"
   ],
   "metadata": {
    "collapsed": false,
    "pycharm": {
     "name": "#%%\n"
    }
   }
  },
  {
   "cell_type": "code",
   "execution_count": 5,
   "outputs": [
    {
     "name": "stdout",
     "output_type": "stream",
     "text": [
      "<class 'pandas.core.frame.DataFrame'>\n",
      "Int64Index: 5000 entries, 0 to 4999\n",
      "Data columns (total 5 columns):\n",
      " #   Column   Non-Null Count  Dtype \n",
      "---  ------   --------------  ----- \n",
      " 0   PRICE    5000 non-null   int64 \n",
      " 1   SOURCE   5000 non-null   object\n",
      " 2   SEX      5000 non-null   object\n",
      " 3   COUNTRY  5000 non-null   object\n",
      " 4   AGE      5000 non-null   int64 \n",
      "dtypes: int64(2), object(3)\n",
      "memory usage: 234.4+ KB\n"
     ]
    }
   ],
   "source": [
    "df.info()"
   ],
   "metadata": {
    "collapsed": false,
    "pycharm": {
     "name": "#%%\n"
    }
   }
  },
  {
   "cell_type": "code",
   "execution_count": 7,
   "outputs": [
    {
     "data": {
      "text/plain": "        count     mean        std   min   25%   50%   75%   max\nPRICE  5000.0  34.1320  12.464897   9.0  29.0  39.0  39.0  59.0\nAGE    5000.0  23.5814   8.995908  15.0  17.0  21.0  27.0  66.0",
      "text/html": "<div>\n<style scoped>\n    .dataframe tbody tr th:only-of-type {\n        vertical-align: middle;\n    }\n\n    .dataframe tbody tr th {\n        vertical-align: top;\n    }\n\n    .dataframe thead th {\n        text-align: right;\n    }\n</style>\n<table border=\"1\" class=\"dataframe\">\n  <thead>\n    <tr style=\"text-align: right;\">\n      <th></th>\n      <th>count</th>\n      <th>mean</th>\n      <th>std</th>\n      <th>min</th>\n      <th>25%</th>\n      <th>50%</th>\n      <th>75%</th>\n      <th>max</th>\n    </tr>\n  </thead>\n  <tbody>\n    <tr>\n      <th>PRICE</th>\n      <td>5000.0</td>\n      <td>34.1320</td>\n      <td>12.464897</td>\n      <td>9.0</td>\n      <td>29.0</td>\n      <td>39.0</td>\n      <td>39.0</td>\n      <td>59.0</td>\n    </tr>\n    <tr>\n      <th>AGE</th>\n      <td>5000.0</td>\n      <td>23.5814</td>\n      <td>8.995908</td>\n      <td>15.0</td>\n      <td>17.0</td>\n      <td>21.0</td>\n      <td>27.0</td>\n      <td>66.0</td>\n    </tr>\n  </tbody>\n</table>\n</div>"
     },
     "execution_count": 7,
     "metadata": {},
     "output_type": "execute_result"
    }
   ],
   "source": [
    "df.describe().T"
   ],
   "metadata": {
    "collapsed": false,
    "pycharm": {
     "name": "#%%\n"
    }
   }
  },
  {
   "cell_type": "markdown",
   "source": [
    "Soru 4: Hangi PRICE'dan kaçar tane satış gerçekleşmiş?"
   ],
   "metadata": {
    "collapsed": false,
    "pycharm": {
     "name": "#%% md\n"
    }
   }
  },
  {
   "cell_type": "code",
   "execution_count": 10,
   "outputs": [
    {
     "data": {
      "text/plain": "       SOURCE   SEX  COUNTRY   AGE\nPRICE                             \n9         200   200      200   200\n19        992   992      992   992\n29       1305  1305     1305  1305\n39       1260  1260     1260  1260\n49       1031  1031     1031  1031\n59        212   212      212   212",
      "text/html": "<div>\n<style scoped>\n    .dataframe tbody tr th:only-of-type {\n        vertical-align: middle;\n    }\n\n    .dataframe tbody tr th {\n        vertical-align: top;\n    }\n\n    .dataframe thead th {\n        text-align: right;\n    }\n</style>\n<table border=\"1\" class=\"dataframe\">\n  <thead>\n    <tr style=\"text-align: right;\">\n      <th></th>\n      <th>SOURCE</th>\n      <th>SEX</th>\n      <th>COUNTRY</th>\n      <th>AGE</th>\n    </tr>\n    <tr>\n      <th>PRICE</th>\n      <th></th>\n      <th></th>\n      <th></th>\n      <th></th>\n    </tr>\n  </thead>\n  <tbody>\n    <tr>\n      <th>9</th>\n      <td>200</td>\n      <td>200</td>\n      <td>200</td>\n      <td>200</td>\n    </tr>\n    <tr>\n      <th>19</th>\n      <td>992</td>\n      <td>992</td>\n      <td>992</td>\n      <td>992</td>\n    </tr>\n    <tr>\n      <th>29</th>\n      <td>1305</td>\n      <td>1305</td>\n      <td>1305</td>\n      <td>1305</td>\n    </tr>\n    <tr>\n      <th>39</th>\n      <td>1260</td>\n      <td>1260</td>\n      <td>1260</td>\n      <td>1260</td>\n    </tr>\n    <tr>\n      <th>49</th>\n      <td>1031</td>\n      <td>1031</td>\n      <td>1031</td>\n      <td>1031</td>\n    </tr>\n    <tr>\n      <th>59</th>\n      <td>212</td>\n      <td>212</td>\n      <td>212</td>\n      <td>212</td>\n    </tr>\n  </tbody>\n</table>\n</div>"
     },
     "execution_count": 10,
     "metadata": {},
     "output_type": "execute_result"
    }
   ],
   "source": [
    "df.groupby(by=\"PRICE\").count()"
   ],
   "metadata": {
    "collapsed": false,
    "pycharm": {
     "name": "#%%\n"
    }
   }
  },
  {
   "cell_type": "markdown",
   "source": [
    "Soru 5: Hangi ülkeden kaçar tane satış olmuş?"
   ],
   "metadata": {
    "collapsed": false,
    "pycharm": {
     "name": "#%% md\n"
    }
   }
  },
  {
   "cell_type": "code",
   "execution_count": 9,
   "outputs": [
    {
     "data": {
      "text/plain": "         PRICE  SOURCE   SEX   AGE\nCOUNTRY                           \nbra       1496    1496  1496  1496\ncan        230     230   230   230\ndeu        455     455   455   455\nfra        303     303   303   303\ntur        451     451   451   451\nusa       2065    2065  2065  2065",
      "text/html": "<div>\n<style scoped>\n    .dataframe tbody tr th:only-of-type {\n        vertical-align: middle;\n    }\n\n    .dataframe tbody tr th {\n        vertical-align: top;\n    }\n\n    .dataframe thead th {\n        text-align: right;\n    }\n</style>\n<table border=\"1\" class=\"dataframe\">\n  <thead>\n    <tr style=\"text-align: right;\">\n      <th></th>\n      <th>PRICE</th>\n      <th>SOURCE</th>\n      <th>SEX</th>\n      <th>AGE</th>\n    </tr>\n    <tr>\n      <th>COUNTRY</th>\n      <th></th>\n      <th></th>\n      <th></th>\n      <th></th>\n    </tr>\n  </thead>\n  <tbody>\n    <tr>\n      <th>bra</th>\n      <td>1496</td>\n      <td>1496</td>\n      <td>1496</td>\n      <td>1496</td>\n    </tr>\n    <tr>\n      <th>can</th>\n      <td>230</td>\n      <td>230</td>\n      <td>230</td>\n      <td>230</td>\n    </tr>\n    <tr>\n      <th>deu</th>\n      <td>455</td>\n      <td>455</td>\n      <td>455</td>\n      <td>455</td>\n    </tr>\n    <tr>\n      <th>fra</th>\n      <td>303</td>\n      <td>303</td>\n      <td>303</td>\n      <td>303</td>\n    </tr>\n    <tr>\n      <th>tur</th>\n      <td>451</td>\n      <td>451</td>\n      <td>451</td>\n      <td>451</td>\n    </tr>\n    <tr>\n      <th>usa</th>\n      <td>2065</td>\n      <td>2065</td>\n      <td>2065</td>\n      <td>2065</td>\n    </tr>\n  </tbody>\n</table>\n</div>"
     },
     "execution_count": 9,
     "metadata": {},
     "output_type": "execute_result"
    }
   ],
   "source": [
    "df.groupby(by=\"COUNTRY\").count()"
   ],
   "metadata": {
    "collapsed": false,
    "pycharm": {
     "name": "#%%\n"
    }
   }
  },
  {
   "cell_type": "markdown",
   "source": [
    "Soru 6: Ülkelere göre satışlardan toplam ne kadar kazanılmış?"
   ],
   "metadata": {
    "collapsed": false,
    "pycharm": {
     "name": "#%% md\n"
    }
   }
  },
  {
   "cell_type": "code",
   "execution_count": 11,
   "outputs": [
    {
     "data": {
      "text/plain": "         PRICE    AGE\nCOUNTRY              \nbra      51354  35854\ncan       7730   5376\ndeu      15485  10394\nfra      10177   6923\ntur      15689  10689\nusa      70225  48671",
      "text/html": "<div>\n<style scoped>\n    .dataframe tbody tr th:only-of-type {\n        vertical-align: middle;\n    }\n\n    .dataframe tbody tr th {\n        vertical-align: top;\n    }\n\n    .dataframe thead th {\n        text-align: right;\n    }\n</style>\n<table border=\"1\" class=\"dataframe\">\n  <thead>\n    <tr style=\"text-align: right;\">\n      <th></th>\n      <th>PRICE</th>\n      <th>AGE</th>\n    </tr>\n    <tr>\n      <th>COUNTRY</th>\n      <th></th>\n      <th></th>\n    </tr>\n  </thead>\n  <tbody>\n    <tr>\n      <th>bra</th>\n      <td>51354</td>\n      <td>35854</td>\n    </tr>\n    <tr>\n      <th>can</th>\n      <td>7730</td>\n      <td>5376</td>\n    </tr>\n    <tr>\n      <th>deu</th>\n      <td>15485</td>\n      <td>10394</td>\n    </tr>\n    <tr>\n      <th>fra</th>\n      <td>10177</td>\n      <td>6923</td>\n    </tr>\n    <tr>\n      <th>tur</th>\n      <td>15689</td>\n      <td>10689</td>\n    </tr>\n    <tr>\n      <th>usa</th>\n      <td>70225</td>\n      <td>48671</td>\n    </tr>\n  </tbody>\n</table>\n</div>"
     },
     "execution_count": 11,
     "metadata": {},
     "output_type": "execute_result"
    }
   ],
   "source": [
    "df.groupby(by=\"COUNTRY\").sum()"
   ],
   "metadata": {
    "collapsed": false,
    "pycharm": {
     "name": "#%%\n"
    }
   }
  },
  {
   "cell_type": "markdown",
   "source": [
    "Soru 7: SOURCE türlerine göre satış sayıları nedir?"
   ],
   "metadata": {
    "collapsed": false,
    "pycharm": {
     "name": "#%% md\n"
    }
   }
  },
  {
   "cell_type": "code",
   "execution_count": 12,
   "outputs": [
    {
     "data": {
      "text/plain": "         PRICE   SEX  COUNTRY   AGE\nSOURCE                             \nandroid   2974  2974     2974  2974\nios       2026  2026     2026  2026",
      "text/html": "<div>\n<style scoped>\n    .dataframe tbody tr th:only-of-type {\n        vertical-align: middle;\n    }\n\n    .dataframe tbody tr th {\n        vertical-align: top;\n    }\n\n    .dataframe thead th {\n        text-align: right;\n    }\n</style>\n<table border=\"1\" class=\"dataframe\">\n  <thead>\n    <tr style=\"text-align: right;\">\n      <th></th>\n      <th>PRICE</th>\n      <th>SEX</th>\n      <th>COUNTRY</th>\n      <th>AGE</th>\n    </tr>\n    <tr>\n      <th>SOURCE</th>\n      <th></th>\n      <th></th>\n      <th></th>\n      <th></th>\n    </tr>\n  </thead>\n  <tbody>\n    <tr>\n      <th>android</th>\n      <td>2974</td>\n      <td>2974</td>\n      <td>2974</td>\n      <td>2974</td>\n    </tr>\n    <tr>\n      <th>ios</th>\n      <td>2026</td>\n      <td>2026</td>\n      <td>2026</td>\n      <td>2026</td>\n    </tr>\n  </tbody>\n</table>\n</div>"
     },
     "execution_count": 12,
     "metadata": {},
     "output_type": "execute_result"
    }
   ],
   "source": [
    "df.groupby(by=\"SOURCE\").count()"
   ],
   "metadata": {
    "collapsed": false,
    "pycharm": {
     "name": "#%%\n"
    }
   }
  },
  {
   "cell_type": "markdown",
   "source": [
    "Soru 8: Ülkelere göre PRICE ortalamaları nedir?"
   ],
   "metadata": {
    "collapsed": false,
    "pycharm": {
     "name": "#%% md\n"
    }
   }
  },
  {
   "cell_type": "code",
   "execution_count": 15,
   "outputs": [
    {
     "data": {
      "text/plain": "             PRICE        AGE\nCOUNTRY                      \nbra      34.327540  23.966578\ncan      33.608696  23.373913\ndeu      34.032967  22.843956\nfra      33.587459  22.848185\ntur      34.787140  23.700665\nusa      34.007264  23.569492",
      "text/html": "<div>\n<style scoped>\n    .dataframe tbody tr th:only-of-type {\n        vertical-align: middle;\n    }\n\n    .dataframe tbody tr th {\n        vertical-align: top;\n    }\n\n    .dataframe thead th {\n        text-align: right;\n    }\n</style>\n<table border=\"1\" class=\"dataframe\">\n  <thead>\n    <tr style=\"text-align: right;\">\n      <th></th>\n      <th>PRICE</th>\n      <th>AGE</th>\n    </tr>\n    <tr>\n      <th>COUNTRY</th>\n      <th></th>\n      <th></th>\n    </tr>\n  </thead>\n  <tbody>\n    <tr>\n      <th>bra</th>\n      <td>34.327540</td>\n      <td>23.966578</td>\n    </tr>\n    <tr>\n      <th>can</th>\n      <td>33.608696</td>\n      <td>23.373913</td>\n    </tr>\n    <tr>\n      <th>deu</th>\n      <td>34.032967</td>\n      <td>22.843956</td>\n    </tr>\n    <tr>\n      <th>fra</th>\n      <td>33.587459</td>\n      <td>22.848185</td>\n    </tr>\n    <tr>\n      <th>tur</th>\n      <td>34.787140</td>\n      <td>23.700665</td>\n    </tr>\n    <tr>\n      <th>usa</th>\n      <td>34.007264</td>\n      <td>23.569492</td>\n    </tr>\n  </tbody>\n</table>\n</div>"
     },
     "execution_count": 15,
     "metadata": {},
     "output_type": "execute_result"
    }
   ],
   "source": [
    "df.groupby(by=\"COUNTRY\").mean()"
   ],
   "metadata": {
    "collapsed": false,
    "pycharm": {
     "name": "#%%\n"
    }
   }
  },
  {
   "cell_type": "markdown",
   "source": [
    "Soru 9: SOURCE’laragöre PRICE ortalamaları nedir?"
   ],
   "metadata": {
    "collapsed": false,
    "pycharm": {
     "name": "#%% md\n"
    }
   }
  },
  {
   "cell_type": "code",
   "execution_count": 16,
   "outputs": [
    {
     "data": {
      "text/plain": "             PRICE        AGE\nSOURCE                       \nandroid  34.174849  23.515804\nios      34.069102  23.677690",
      "text/html": "<div>\n<style scoped>\n    .dataframe tbody tr th:only-of-type {\n        vertical-align: middle;\n    }\n\n    .dataframe tbody tr th {\n        vertical-align: top;\n    }\n\n    .dataframe thead th {\n        text-align: right;\n    }\n</style>\n<table border=\"1\" class=\"dataframe\">\n  <thead>\n    <tr style=\"text-align: right;\">\n      <th></th>\n      <th>PRICE</th>\n      <th>AGE</th>\n    </tr>\n    <tr>\n      <th>SOURCE</th>\n      <th></th>\n      <th></th>\n    </tr>\n  </thead>\n  <tbody>\n    <tr>\n      <th>android</th>\n      <td>34.174849</td>\n      <td>23.515804</td>\n    </tr>\n    <tr>\n      <th>ios</th>\n      <td>34.069102</td>\n      <td>23.677690</td>\n    </tr>\n  </tbody>\n</table>\n</div>"
     },
     "execution_count": 16,
     "metadata": {},
     "output_type": "execute_result"
    }
   ],
   "source": [
    "df.groupby(by=\"SOURCE\").mean()"
   ],
   "metadata": {
    "collapsed": false,
    "pycharm": {
     "name": "#%%\n"
    }
   }
  },
  {
   "cell_type": "markdown",
   "source": [
    "Soru 10: COUNTRY-SOURCE kırılımında PRICE ortalamaları nedir?"
   ],
   "metadata": {
    "collapsed": false,
    "pycharm": {
     "name": "#%% md\n"
    }
   }
  },
  {
   "cell_type": "code",
   "execution_count": 20,
   "outputs": [
    {
     "data": {
      "text/plain": "                     PRICE\nCOUNTRY SOURCE            \nbra     android  34.387029\n        ios      34.222222\ncan     android  33.330709\n        ios      33.951456\ndeu     android  33.869888\n        ios      34.268817\nfra     android  34.312500\n        ios      32.776224\ntur     android  36.229437\n        ios      33.272727\nusa     android  33.760357\n        ios      34.371703",
      "text/html": "<div>\n<style scoped>\n    .dataframe tbody tr th:only-of-type {\n        vertical-align: middle;\n    }\n\n    .dataframe tbody tr th {\n        vertical-align: top;\n    }\n\n    .dataframe thead th {\n        text-align: right;\n    }\n</style>\n<table border=\"1\" class=\"dataframe\">\n  <thead>\n    <tr style=\"text-align: right;\">\n      <th></th>\n      <th></th>\n      <th>PRICE</th>\n    </tr>\n    <tr>\n      <th>COUNTRY</th>\n      <th>SOURCE</th>\n      <th></th>\n    </tr>\n  </thead>\n  <tbody>\n    <tr>\n      <th rowspan=\"2\" valign=\"top\">bra</th>\n      <th>android</th>\n      <td>34.387029</td>\n    </tr>\n    <tr>\n      <th>ios</th>\n      <td>34.222222</td>\n    </tr>\n    <tr>\n      <th rowspan=\"2\" valign=\"top\">can</th>\n      <th>android</th>\n      <td>33.330709</td>\n    </tr>\n    <tr>\n      <th>ios</th>\n      <td>33.951456</td>\n    </tr>\n    <tr>\n      <th rowspan=\"2\" valign=\"top\">deu</th>\n      <th>android</th>\n      <td>33.869888</td>\n    </tr>\n    <tr>\n      <th>ios</th>\n      <td>34.268817</td>\n    </tr>\n    <tr>\n      <th rowspan=\"2\" valign=\"top\">fra</th>\n      <th>android</th>\n      <td>34.312500</td>\n    </tr>\n    <tr>\n      <th>ios</th>\n      <td>32.776224</td>\n    </tr>\n    <tr>\n      <th rowspan=\"2\" valign=\"top\">tur</th>\n      <th>android</th>\n      <td>36.229437</td>\n    </tr>\n    <tr>\n      <th>ios</th>\n      <td>33.272727</td>\n    </tr>\n    <tr>\n      <th rowspan=\"2\" valign=\"top\">usa</th>\n      <th>android</th>\n      <td>33.760357</td>\n    </tr>\n    <tr>\n      <th>ios</th>\n      <td>34.371703</td>\n    </tr>\n  </tbody>\n</table>\n</div>"
     },
     "execution_count": 20,
     "metadata": {},
     "output_type": "execute_result"
    }
   ],
   "source": [
    "df.groupby([\"COUNTRY\", 'SOURCE']).agg({\"PRICE\": \"mean\"})"
   ],
   "metadata": {
    "collapsed": false,
    "pycharm": {
     "name": "#%%\n"
    }
   }
  },
  {
   "cell_type": "markdown",
   "source": [
    "# Görev 2: COUNTRY, SOURCE, SEX, AGE kırılımında ortalama kazançlar nedir?"
   ],
   "metadata": {
    "collapsed": false,
    "pycharm": {
     "name": "#%% md\n"
    }
   }
  },
  {
   "cell_type": "code",
   "execution_count": 21,
   "outputs": [
    {
     "data": {
      "text/plain": "                                PRICE\nCOUNTRY SOURCE  SEX    AGE           \nbra     android female 15   38.714286\n                       16   35.944444\n                       17   35.666667\n                       18   32.255814\n                       19   35.206897\n...                               ...\nusa     ios     male   42   30.250000\n                       50   39.000000\n                       53   34.000000\n                       55   29.000000\n                       59   46.500000\n\n[348 rows x 1 columns]",
      "text/html": "<div>\n<style scoped>\n    .dataframe tbody tr th:only-of-type {\n        vertical-align: middle;\n    }\n\n    .dataframe tbody tr th {\n        vertical-align: top;\n    }\n\n    .dataframe thead th {\n        text-align: right;\n    }\n</style>\n<table border=\"1\" class=\"dataframe\">\n  <thead>\n    <tr style=\"text-align: right;\">\n      <th></th>\n      <th></th>\n      <th></th>\n      <th></th>\n      <th>PRICE</th>\n    </tr>\n    <tr>\n      <th>COUNTRY</th>\n      <th>SOURCE</th>\n      <th>SEX</th>\n      <th>AGE</th>\n      <th></th>\n    </tr>\n  </thead>\n  <tbody>\n    <tr>\n      <th rowspan=\"5\" valign=\"top\">bra</th>\n      <th rowspan=\"5\" valign=\"top\">android</th>\n      <th rowspan=\"5\" valign=\"top\">female</th>\n      <th>15</th>\n      <td>38.714286</td>\n    </tr>\n    <tr>\n      <th>16</th>\n      <td>35.944444</td>\n    </tr>\n    <tr>\n      <th>17</th>\n      <td>35.666667</td>\n    </tr>\n    <tr>\n      <th>18</th>\n      <td>32.255814</td>\n    </tr>\n    <tr>\n      <th>19</th>\n      <td>35.206897</td>\n    </tr>\n    <tr>\n      <th>...</th>\n      <th>...</th>\n      <th>...</th>\n      <th>...</th>\n      <td>...</td>\n    </tr>\n    <tr>\n      <th rowspan=\"5\" valign=\"top\">usa</th>\n      <th rowspan=\"5\" valign=\"top\">ios</th>\n      <th rowspan=\"5\" valign=\"top\">male</th>\n      <th>42</th>\n      <td>30.250000</td>\n    </tr>\n    <tr>\n      <th>50</th>\n      <td>39.000000</td>\n    </tr>\n    <tr>\n      <th>53</th>\n      <td>34.000000</td>\n    </tr>\n    <tr>\n      <th>55</th>\n      <td>29.000000</td>\n    </tr>\n    <tr>\n      <th>59</th>\n      <td>46.500000</td>\n    </tr>\n  </tbody>\n</table>\n<p>348 rows × 1 columns</p>\n</div>"
     },
     "execution_count": 21,
     "metadata": {},
     "output_type": "execute_result"
    }
   ],
   "source": [
    "df.groupby([\"COUNTRY\", 'SOURCE', \"SEX\", \"AGE\"]).agg({\"PRICE\": \"mean\"})"
   ],
   "metadata": {
    "collapsed": false,
    "pycharm": {
     "name": "#%%\n"
    }
   }
  },
  {
   "cell_type": "markdown",
   "source": [
    "# Görev 3: Çıktıyı PRICE’a göre sıralayınız.\n"
   ],
   "metadata": {
    "collapsed": false,
    "pycharm": {
     "name": "#%% md\n"
    }
   }
  },
  {
   "cell_type": "code",
   "execution_count": 25,
   "outputs": [
    {
     "data": {
      "text/plain": "                                PRICE\nCOUNTRY SOURCE  SEX    AGE           \nbra     android female 15   38.714286\n                       16   35.944444\n                       17   35.666667\n                       18   32.255814\n                       19   35.206897\n...                               ...\nusa     ios     male   42   30.250000\n                       50   39.000000\n                       53   34.000000\n                       55   29.000000\n                       59   46.500000\n\n[348 rows x 1 columns]",
      "text/html": "<div>\n<style scoped>\n    .dataframe tbody tr th:only-of-type {\n        vertical-align: middle;\n    }\n\n    .dataframe tbody tr th {\n        vertical-align: top;\n    }\n\n    .dataframe thead th {\n        text-align: right;\n    }\n</style>\n<table border=\"1\" class=\"dataframe\">\n  <thead>\n    <tr style=\"text-align: right;\">\n      <th></th>\n      <th></th>\n      <th></th>\n      <th></th>\n      <th>PRICE</th>\n    </tr>\n    <tr>\n      <th>COUNTRY</th>\n      <th>SOURCE</th>\n      <th>SEX</th>\n      <th>AGE</th>\n      <th></th>\n    </tr>\n  </thead>\n  <tbody>\n    <tr>\n      <th rowspan=\"5\" valign=\"top\">bra</th>\n      <th rowspan=\"5\" valign=\"top\">android</th>\n      <th rowspan=\"5\" valign=\"top\">female</th>\n      <th>15</th>\n      <td>38.714286</td>\n    </tr>\n    <tr>\n      <th>16</th>\n      <td>35.944444</td>\n    </tr>\n    <tr>\n      <th>17</th>\n      <td>35.666667</td>\n    </tr>\n    <tr>\n      <th>18</th>\n      <td>32.255814</td>\n    </tr>\n    <tr>\n      <th>19</th>\n      <td>35.206897</td>\n    </tr>\n    <tr>\n      <th>...</th>\n      <th>...</th>\n      <th>...</th>\n      <th>...</th>\n      <td>...</td>\n    </tr>\n    <tr>\n      <th rowspan=\"5\" valign=\"top\">usa</th>\n      <th rowspan=\"5\" valign=\"top\">ios</th>\n      <th rowspan=\"5\" valign=\"top\">male</th>\n      <th>42</th>\n      <td>30.250000</td>\n    </tr>\n    <tr>\n      <th>50</th>\n      <td>39.000000</td>\n    </tr>\n    <tr>\n      <th>53</th>\n      <td>34.000000</td>\n    </tr>\n    <tr>\n      <th>55</th>\n      <td>29.000000</td>\n    </tr>\n    <tr>\n      <th>59</th>\n      <td>46.500000</td>\n    </tr>\n  </tbody>\n</table>\n<p>348 rows × 1 columns</p>\n</div>"
     },
     "execution_count": 25,
     "metadata": {},
     "output_type": "execute_result"
    }
   ],
   "source": [
    "agg_df = df.groupby([\"COUNTRY\", 'SOURCE', \"SEX\", \"AGE\"]).agg({\"PRICE\": \"mean\"})\n",
    "agg_df"
   ],
   "metadata": {
    "collapsed": false,
    "pycharm": {
     "name": "#%%\n"
    }
   }
  },
  {
   "cell_type": "code",
   "execution_count": 26,
   "outputs": [
    {
     "data": {
      "text/plain": "                            PRICE\nCOUNTRY SOURCE  SEX    AGE       \ndeu     android male   26     9.0\nusa     ios     female 38    19.0\ntur     ios     male   47    19.0\n        android male   21    19.0\nfra     android male   18    19.0\n...                           ...\ndeu     ios     male   20    49.0\nusa     ios     male   32    54.0\nbra     android male   46    59.0\nfra     android female 24    59.0\nusa     android male   36    59.0\n\n[348 rows x 1 columns]",
      "text/html": "<div>\n<style scoped>\n    .dataframe tbody tr th:only-of-type {\n        vertical-align: middle;\n    }\n\n    .dataframe tbody tr th {\n        vertical-align: top;\n    }\n\n    .dataframe thead th {\n        text-align: right;\n    }\n</style>\n<table border=\"1\" class=\"dataframe\">\n  <thead>\n    <tr style=\"text-align: right;\">\n      <th></th>\n      <th></th>\n      <th></th>\n      <th></th>\n      <th>PRICE</th>\n    </tr>\n    <tr>\n      <th>COUNTRY</th>\n      <th>SOURCE</th>\n      <th>SEX</th>\n      <th>AGE</th>\n      <th></th>\n    </tr>\n  </thead>\n  <tbody>\n    <tr>\n      <th>deu</th>\n      <th>android</th>\n      <th>male</th>\n      <th>26</th>\n      <td>9.0</td>\n    </tr>\n    <tr>\n      <th>usa</th>\n      <th>ios</th>\n      <th>female</th>\n      <th>38</th>\n      <td>19.0</td>\n    </tr>\n    <tr>\n      <th rowspan=\"2\" valign=\"top\">tur</th>\n      <th>ios</th>\n      <th>male</th>\n      <th>47</th>\n      <td>19.0</td>\n    </tr>\n    <tr>\n      <th>android</th>\n      <th>male</th>\n      <th>21</th>\n      <td>19.0</td>\n    </tr>\n    <tr>\n      <th>fra</th>\n      <th>android</th>\n      <th>male</th>\n      <th>18</th>\n      <td>19.0</td>\n    </tr>\n    <tr>\n      <th>...</th>\n      <th>...</th>\n      <th>...</th>\n      <th>...</th>\n      <td>...</td>\n    </tr>\n    <tr>\n      <th>deu</th>\n      <th>ios</th>\n      <th>male</th>\n      <th>20</th>\n      <td>49.0</td>\n    </tr>\n    <tr>\n      <th>usa</th>\n      <th>ios</th>\n      <th>male</th>\n      <th>32</th>\n      <td>54.0</td>\n    </tr>\n    <tr>\n      <th>bra</th>\n      <th>android</th>\n      <th>male</th>\n      <th>46</th>\n      <td>59.0</td>\n    </tr>\n    <tr>\n      <th>fra</th>\n      <th>android</th>\n      <th>female</th>\n      <th>24</th>\n      <td>59.0</td>\n    </tr>\n    <tr>\n      <th>usa</th>\n      <th>android</th>\n      <th>male</th>\n      <th>36</th>\n      <td>59.0</td>\n    </tr>\n  </tbody>\n</table>\n<p>348 rows × 1 columns</p>\n</div>"
     },
     "execution_count": 26,
     "metadata": {},
     "output_type": "execute_result"
    }
   ],
   "source": [
    "agg_df = agg_df.sort_values(by=\"PRICE\")\n",
    "agg_df"
   ],
   "metadata": {
    "collapsed": false,
    "pycharm": {
     "name": "#%%\n"
    }
   }
  },
  {
   "cell_type": "markdown",
   "source": [
    "# Görev 4: Indekste yer alan isimleri değişken ismine çeviriniz.\n"
   ],
   "metadata": {
    "collapsed": false,
    "pycharm": {
     "name": "#%% md\n"
    }
   }
  },
  {
   "cell_type": "code",
   "execution_count": 27,
   "outputs": [
    {
     "data": {
      "text/plain": "    COUNTRY   SOURCE     SEX  AGE  PRICE\n0       deu  android    male   26    9.0\n1       usa      ios  female   38   19.0\n2       tur      ios    male   47   19.0\n3       tur  android    male   21   19.0\n4       fra  android    male   18   19.0\n..      ...      ...     ...  ...    ...\n343     deu      ios    male   20   49.0\n344     usa      ios    male   32   54.0\n345     bra  android    male   46   59.0\n346     fra  android  female   24   59.0\n347     usa  android    male   36   59.0\n\n[348 rows x 5 columns]",
      "text/html": "<div>\n<style scoped>\n    .dataframe tbody tr th:only-of-type {\n        vertical-align: middle;\n    }\n\n    .dataframe tbody tr th {\n        vertical-align: top;\n    }\n\n    .dataframe thead th {\n        text-align: right;\n    }\n</style>\n<table border=\"1\" class=\"dataframe\">\n  <thead>\n    <tr style=\"text-align: right;\">\n      <th></th>\n      <th>COUNTRY</th>\n      <th>SOURCE</th>\n      <th>SEX</th>\n      <th>AGE</th>\n      <th>PRICE</th>\n    </tr>\n  </thead>\n  <tbody>\n    <tr>\n      <th>0</th>\n      <td>deu</td>\n      <td>android</td>\n      <td>male</td>\n      <td>26</td>\n      <td>9.0</td>\n    </tr>\n    <tr>\n      <th>1</th>\n      <td>usa</td>\n      <td>ios</td>\n      <td>female</td>\n      <td>38</td>\n      <td>19.0</td>\n    </tr>\n    <tr>\n      <th>2</th>\n      <td>tur</td>\n      <td>ios</td>\n      <td>male</td>\n      <td>47</td>\n      <td>19.0</td>\n    </tr>\n    <tr>\n      <th>3</th>\n      <td>tur</td>\n      <td>android</td>\n      <td>male</td>\n      <td>21</td>\n      <td>19.0</td>\n    </tr>\n    <tr>\n      <th>4</th>\n      <td>fra</td>\n      <td>android</td>\n      <td>male</td>\n      <td>18</td>\n      <td>19.0</td>\n    </tr>\n    <tr>\n      <th>...</th>\n      <td>...</td>\n      <td>...</td>\n      <td>...</td>\n      <td>...</td>\n      <td>...</td>\n    </tr>\n    <tr>\n      <th>343</th>\n      <td>deu</td>\n      <td>ios</td>\n      <td>male</td>\n      <td>20</td>\n      <td>49.0</td>\n    </tr>\n    <tr>\n      <th>344</th>\n      <td>usa</td>\n      <td>ios</td>\n      <td>male</td>\n      <td>32</td>\n      <td>54.0</td>\n    </tr>\n    <tr>\n      <th>345</th>\n      <td>bra</td>\n      <td>android</td>\n      <td>male</td>\n      <td>46</td>\n      <td>59.0</td>\n    </tr>\n    <tr>\n      <th>346</th>\n      <td>fra</td>\n      <td>android</td>\n      <td>female</td>\n      <td>24</td>\n      <td>59.0</td>\n    </tr>\n    <tr>\n      <th>347</th>\n      <td>usa</td>\n      <td>android</td>\n      <td>male</td>\n      <td>36</td>\n      <td>59.0</td>\n    </tr>\n  </tbody>\n</table>\n<p>348 rows × 5 columns</p>\n</div>"
     },
     "execution_count": 27,
     "metadata": {},
     "output_type": "execute_result"
    }
   ],
   "source": [
    "agg_df = agg_df.reset_index()\n",
    "agg_df"
   ],
   "metadata": {
    "collapsed": false,
    "pycharm": {
     "name": "#%%\n"
    }
   }
  },
  {
   "cell_type": "markdown",
   "source": [
    "# Görev 5: Age değişkenini kategorik değişkene çeviriniz ve agg_df’eekleyiniz.\n"
   ],
   "metadata": {
    "collapsed": false,
    "pycharm": {
     "name": "#%% md\n"
    }
   }
  },
  {
   "cell_type": "code",
   "execution_count": 32,
   "outputs": [],
   "source": [
    "age = [0, 18, 23, 30, 40, agg_df[\"AGE\"].max()]\n",
    "\n",
    "mylabels = ['0-18', '19-23', '24-30', '31-40', '41-' + str(agg_df[\"AGE\"].max())]\n",
    "\n",
    "agg_df[\"age_categori\"] = pd.cut(agg_df[\"AGE\"], age, labels=mylabels)"
   ],
   "metadata": {
    "collapsed": false,
    "pycharm": {
     "name": "#%%\n"
    }
   }
  },
  {
   "cell_type": "code",
   "execution_count": 33,
   "outputs": [
    {
     "data": {
      "text/plain": "    COUNTRY   SOURCE     SEX  AGE  PRICE age_categori\n0       deu  android    male   26    9.0        24-30\n1       usa      ios  female   38   19.0        31-40\n2       tur      ios    male   47   19.0        41-66\n3       tur  android    male   21   19.0        19-23\n4       fra  android    male   18   19.0         0-18\n..      ...      ...     ...  ...    ...          ...\n343     deu      ios    male   20   49.0        19-23\n344     usa      ios    male   32   54.0        31-40\n345     bra  android    male   46   59.0        41-66\n346     fra  android  female   24   59.0        24-30\n347     usa  android    male   36   59.0        31-40\n\n[348 rows x 6 columns]",
      "text/html": "<div>\n<style scoped>\n    .dataframe tbody tr th:only-of-type {\n        vertical-align: middle;\n    }\n\n    .dataframe tbody tr th {\n        vertical-align: top;\n    }\n\n    .dataframe thead th {\n        text-align: right;\n    }\n</style>\n<table border=\"1\" class=\"dataframe\">\n  <thead>\n    <tr style=\"text-align: right;\">\n      <th></th>\n      <th>COUNTRY</th>\n      <th>SOURCE</th>\n      <th>SEX</th>\n      <th>AGE</th>\n      <th>PRICE</th>\n      <th>age_categori</th>\n    </tr>\n  </thead>\n  <tbody>\n    <tr>\n      <th>0</th>\n      <td>deu</td>\n      <td>android</td>\n      <td>male</td>\n      <td>26</td>\n      <td>9.0</td>\n      <td>24-30</td>\n    </tr>\n    <tr>\n      <th>1</th>\n      <td>usa</td>\n      <td>ios</td>\n      <td>female</td>\n      <td>38</td>\n      <td>19.0</td>\n      <td>31-40</td>\n    </tr>\n    <tr>\n      <th>2</th>\n      <td>tur</td>\n      <td>ios</td>\n      <td>male</td>\n      <td>47</td>\n      <td>19.0</td>\n      <td>41-66</td>\n    </tr>\n    <tr>\n      <th>3</th>\n      <td>tur</td>\n      <td>android</td>\n      <td>male</td>\n      <td>21</td>\n      <td>19.0</td>\n      <td>19-23</td>\n    </tr>\n    <tr>\n      <th>4</th>\n      <td>fra</td>\n      <td>android</td>\n      <td>male</td>\n      <td>18</td>\n      <td>19.0</td>\n      <td>0-18</td>\n    </tr>\n    <tr>\n      <th>...</th>\n      <td>...</td>\n      <td>...</td>\n      <td>...</td>\n      <td>...</td>\n      <td>...</td>\n      <td>...</td>\n    </tr>\n    <tr>\n      <th>343</th>\n      <td>deu</td>\n      <td>ios</td>\n      <td>male</td>\n      <td>20</td>\n      <td>49.0</td>\n      <td>19-23</td>\n    </tr>\n    <tr>\n      <th>344</th>\n      <td>usa</td>\n      <td>ios</td>\n      <td>male</td>\n      <td>32</td>\n      <td>54.0</td>\n      <td>31-40</td>\n    </tr>\n    <tr>\n      <th>345</th>\n      <td>bra</td>\n      <td>android</td>\n      <td>male</td>\n      <td>46</td>\n      <td>59.0</td>\n      <td>41-66</td>\n    </tr>\n    <tr>\n      <th>346</th>\n      <td>fra</td>\n      <td>android</td>\n      <td>female</td>\n      <td>24</td>\n      <td>59.0</td>\n      <td>24-30</td>\n    </tr>\n    <tr>\n      <th>347</th>\n      <td>usa</td>\n      <td>android</td>\n      <td>male</td>\n      <td>36</td>\n      <td>59.0</td>\n      <td>31-40</td>\n    </tr>\n  </tbody>\n</table>\n<p>348 rows × 6 columns</p>\n</div>"
     },
     "execution_count": 33,
     "metadata": {},
     "output_type": "execute_result"
    }
   ],
   "source": [
    "agg_df"
   ],
   "metadata": {
    "collapsed": false,
    "pycharm": {
     "name": "#%%\n"
    }
   }
  },
  {
   "cell_type": "markdown",
   "source": [
    "# Görev 6: Yeni seviye tabanlı müşterileri (persona) tanımlayınız."
   ],
   "metadata": {
    "collapsed": false,
    "pycharm": {
     "name": "#%% md\n"
    }
   }
  },
  {
   "cell_type": "code",
   "execution_count": 34,
   "outputs": [
    {
     "name": "stdout",
     "output_type": "stream",
     "text": [
      "['deu' 'android' 'male' 26 9.0 '24-30']\n",
      "['usa' 'ios' 'female' 38 19.0 '31-40']\n",
      "['tur' 'ios' 'male' 47 19.0 '41-66']\n",
      "['tur' 'android' 'male' 21 19.0 '19-23']\n",
      "['fra' 'android' 'male' 18 19.0 '0-18']\n",
      "['usa' 'ios' 'female' 30 19.0 '24-30']\n",
      "['can' 'android' 'female' 27 19.0 '24-30']\n",
      "['bra' 'ios' 'male' 47 19.0 '41-66']\n",
      "['bra' 'ios' 'female' 34 19.0 '31-40']\n",
      "['bra' 'android' 'male' 23 21.5 '19-23']\n",
      "['tur' 'ios' 'male' 21 22.333333333333332 '19-23']\n",
      "['bra' 'ios' 'male' 36 22.333333333333332 '31-40']\n",
      "['bra' 'android' 'female' 28 22.333333333333332 '24-30']\n",
      "['usa' 'android' 'male' 29 22.333333333333332 '24-30']\n",
      "['tur' 'android' 'female' 29 24.0 '24-30']\n",
      "['bra' 'android' 'female' 34 24.0 '31-40']\n",
      "['usa' 'ios' 'male' 29 24.0 '24-30']\n",
      "['usa' 'ios' 'male' 36 24.0 '31-40']\n",
      "['fra' 'ios' 'female' 25 25.0 '24-30']\n",
      "['fra' 'android' 'male' 21 25.666666666666668 '19-23']\n",
      "['can' 'android' 'female' 15 25.666666666666668 '0-18']\n",
      "['usa' 'android' 'male' 65 25.666666666666668 '41-66']\n",
      "['tur' 'ios' 'female' 38 25.666666666666668 '31-40']\n",
      "['usa' 'android' 'male' 24 26.058823529411764 '24-30']\n",
      "['bra' 'android' 'female' 27 26.142857142857142 '24-30']\n",
      "['deu' 'android' 'female' 16 27.0 '0-18']\n",
      "['tur' 'ios' 'male' 19 27.333333333333332 '19-23']\n",
      "['fra' 'android' 'female' 19 27.333333333333332 '19-23']\n",
      "['bra' 'ios' 'female' 31 27.571428571428573 '31-40']\n",
      "['fra' 'ios' 'female' 16 27.75 '0-18']\n",
      "['deu' 'android' 'female' 41 27.75 '41-66']\n",
      "['usa' 'android' 'female' 34 28.0 '31-40']\n",
      "['usa' 'android' 'female' 32 28.166666666666668 '31-40']\n",
      "['bra' 'android' 'male' 28 28.23076923076923 '24-30']\n",
      "['can' 'ios' 'male' 32 29.0 '31-40']\n",
      "['can' 'ios' 'female' 16 29.0 '0-18']\n",
      "['tur' 'android' 'female' 56 29.0 '41-66']\n",
      "['tur' 'android' 'male' 36 29.0 '31-40']\n",
      "['bra' 'android' 'male' 53 29.0 '41-66']\n",
      "['bra' 'ios' 'male' 37 29.0 '31-40']\n",
      "['tur' 'ios' 'female' 16 29.0 '0-18']\n",
      "['usa' 'android' 'male' 34 29.0 '31-40']\n",
      "['usa' 'android' 'male' 37 29.0 '31-40']\n",
      "['bra' 'ios' 'male' 31 29.0 '31-40']\n",
      "['usa' 'android' 'male' 57 29.0 '41-66']\n",
      "['deu' 'android' 'female' 33 29.0 '31-40']\n",
      "['deu' 'ios' 'male' 23 29.0 '19-23']\n",
      "['usa' 'android' 'female' 30 29.0 '24-30']\n",
      "['fra' 'ios' 'male' 15 29.0 '0-18']\n",
      "['usa' 'android' 'male' 38 29.0 '31-40']\n",
      "['deu' 'ios' 'female' 24 29.0 '24-30']\n",
      "['usa' 'ios' 'female' 42 29.0 '41-66']\n",
      "['deu' 'android' 'male' 32 29.0 '31-40']\n",
      "['fra' 'ios' 'male' 38 29.0 '31-40']\n",
      "['usa' 'ios' 'male' 55 29.0 '41-66']\n",
      "['usa' 'android' 'female' 27 29.0 '24-30']\n",
      "['fra' 'ios' 'male' 27 29.0 '24-30']\n",
      "['deu' 'android' 'male' 24 29.0 '24-30']\n",
      "['usa' 'ios' 'female' 35 29.625 '31-40']\n",
      "['bra' 'android' 'male' 16 29.666666666666668 '0-18']\n",
      "['can' 'android' 'female' 16 29.689655172413794 '0-18']\n",
      "['bra' 'android' 'male' 29 29.714285714285715 '24-30']\n",
      "['bra' 'ios' 'female' 23 29.76923076923077 '19-23']\n",
      "['can' 'android' 'male' 24 29.76923076923077 '24-30']\n",
      "['usa' 'android' 'female' 24 30.05263157894737 '24-30']\n",
      "['bra' 'ios' 'male' 42 30.11111111111111 '41-66']\n",
      "['tur' 'ios' 'female' 17 30.176470588235293 '0-18']\n",
      "['fra' 'android' 'male' 15 30.25 '0-18']\n",
      "['usa' 'ios' 'male' 42 30.25 '41-66']\n",
      "['usa' 'ios' 'male' 33 30.304347826086957 '31-40']\n",
      "['usa' 'ios' 'female' 50 30.304347826086957 '41-66']\n",
      "['fra' 'ios' 'female' 28 30.428571428571427 '24-30']\n",
      "['bra' 'ios' 'male' 66 30.428571428571427 '41-66']\n",
      "['bra' 'ios' 'female' 29 30.428571428571427 '24-30']\n",
      "['bra' 'android' 'male' 25 30.428571428571427 '24-30']\n",
      "['deu' 'ios' 'female' 15 30.666666666666668 '0-18']\n",
      "['fra' 'ios' 'male' 16 30.666666666666668 '0-18']\n",
      "['usa' 'android' 'female' 26 30.77777777777778 '24-30']\n",
      "['usa' 'ios' 'female' 34 30.875 '31-40']\n",
      "['bra' 'android' 'male' 22 31.0 '19-23']\n",
      "['bra' 'ios' 'male' 21 31.0 '19-23']\n",
      "['deu' 'ios' 'male' 30 31.0 '24-30']\n",
      "['bra' 'android' 'female' 20 31.0 '19-23']\n",
      "['can' 'ios' 'male' 57 31.0 '41-66']\n",
      "['tur' 'android' 'female' 19 31.0 '19-23']\n",
      "['deu' 'android' 'female' 21 31.0 '19-23']\n",
      "['tur' 'ios' 'male' 42 31.105263157894736 '41-66']\n",
      "['can' 'ios' 'male' 25 31.17391304347826 '24-30']\n",
      "['deu' 'android' 'male' 19 31.22222222222222 '19-23']\n",
      "['usa' 'android' 'female' 20 31.285714285714285 '19-23']\n",
      "['deu' 'ios' 'male' 32 31.352941176470587 '31-40']\n",
      "['deu' 'android' 'female' 44 31.5 '41-66']\n",
      "['bra' 'android' 'male' 35 31.5 '31-40']\n",
      "['usa' 'ios' 'female' 27 31.5 '24-30']\n",
      "['can' 'android' 'female' 20 31.5 '19-23']\n",
      "['usa' 'ios' 'female' 16 31.5 '0-18']\n",
      "['usa' 'ios' 'male' 37 31.727272727272727 '31-40']\n",
      "['can' 'ios' 'female' 29 31.727272727272727 '24-30']\n",
      "['bra' 'android' 'male' 36 31.857142857142858 '31-40']\n",
      "['usa' 'ios' 'male' 25 31.857142857142858 '24-30']\n",
      "['fra' 'android' 'female' 26 31.857142857142858 '24-30']\n",
      "['bra' 'android' 'female' 23 31.941176470588236 '19-23']\n",
      "['deu' 'android' 'female' 15 32.0 '0-18']\n",
      "['deu' 'android' 'female' 27 32.125 '24-30']\n",
      "['fra' 'android' 'female' 23 32.125 '19-23']\n",
      "['usa' 'ios' 'male' 22 32.170731707317074 '19-23']\n",
      "['bra' 'android' 'female' 18 32.25581395348837 '0-18']\n",
      "['deu' 'android' 'female' 28 32.333333333333336 '24-30']\n",
      "['bra' 'ios' 'female' 35 32.333333333333336 '31-40']\n",
      "['tur' 'android' 'female' 20 32.333333333333336 '19-23']\n",
      "['bra' 'ios' 'female' 28 32.333333333333336 '24-30']\n",
      "['fra' 'android' 'male' 32 32.333333333333336 '31-40']\n",
      "['deu' 'android' 'male' 18 32.333333333333336 '0-18']\n",
      "['deu' 'android' 'female' 34 32.333333333333336 '31-40']\n",
      "['deu' 'android' 'male' 31 32.333333333333336 '31-40']\n",
      "['usa' 'android' 'male' 21 32.333333333333336 '19-23']\n",
      "['tur' 'android' 'female' 50 32.333333333333336 '41-66']\n",
      "['usa' 'android' 'female' 44 32.333333333333336 '41-66']\n",
      "['bra' 'android' 'female' 41 32.333333333333336 '41-66']\n",
      "['fra' 'android' 'male' 46 32.333333333333336 '41-66']\n",
      "['usa' 'android' 'female' 18 32.40425531914894 '0-18']\n",
      "['can' 'android' 'female' 19 32.529411764705884 '19-23']\n",
      "['fra' 'ios' 'female' 18 32.57142857142857 '0-18']\n",
      "['tur' 'ios' 'female' 22 32.63636363636363 '19-23']\n",
      "['fra' 'ios' 'female' 31 32.63636363636363 '31-40']\n",
      "['bra' 'android' 'male' 27 32.63636363636363 '24-30']\n",
      "['bra' 'ios' 'female' 17 32.63636363636363 '0-18']\n",
      "['usa' 'android' 'female' 15 32.666666666666664 '0-18']\n",
      "['bra' 'ios' 'male' 18 32.68421052631579 '0-18']\n",
      "['usa' 'ios' 'female' 24 32.75 '24-30']\n",
      "['usa' 'android' 'male' 19 32.80952380952381 '19-23']\n",
      "['usa' 'ios' 'female' 23 32.80952380952381 '19-23']\n",
      "['bra' 'ios' 'female' 20 32.84615384615385 '19-23']\n",
      "['tur' 'ios' 'male' 15 32.84615384615385 '0-18']\n",
      "['usa' 'ios' 'male' 17 32.91304347826087 '0-18']\n",
      "['deu' 'android' 'male' 17 32.91304347826087 '0-18']\n",
      "['usa' 'ios' 'female' 18 32.91304347826087 '0-18']\n",
      "['bra' 'ios' 'female' 46 33.0 '41-66']\n",
      "['fra' 'ios' 'female' 40 33.0 '31-40']\n",
      "['usa' 'android' 'male' 42 33.0 '41-66']\n",
      "['fra' 'android' 'male' 25 33.0 '24-30']\n",
      "['deu' 'ios' 'female' 32 33.0 '31-40']\n",
      "['bra' 'android' 'male' 18 33.054054054054056 '0-18']\n",
      "['usa' 'android' 'female' 23 33.1025641025641 '19-23']\n",
      "['bra' 'android' 'female' 26 33.166666666666664 '24-30']\n",
      "['usa' 'android' 'male' 27 33.285714285714285 '24-30']\n",
      "['bra' 'ios' 'male' 44 33.54545454545455 '41-66']\n",
      "['fra' 'ios' 'female' 15 33.61538461538461 '0-18']\n",
      "['bra' 'android' 'female' 45 33.61538461538461 '41-66']\n",
      "['tur' 'android' 'female' 17 33.6875 '0-18']\n",
      "['bra' 'ios' 'female' 16 33.6875 '0-18']\n",
      "['can' 'ios' 'female' 15 33.705882352941174 '0-18']\n",
      "['usa' 'ios' 'male' 15 33.729729729729726 '0-18']\n",
      "['bra' 'android' 'female' 37 33.73684210526316 '31-40']\n",
      "['deu' 'android' 'female' 17 33.73684210526316 '0-18']\n",
      "['bra' 'ios' 'male' 16 33.76190476190476 '0-18']\n",
      "['usa' 'android' 'female' 22 33.8 '19-23']\n",
      "['usa' 'ios' 'female' 15 33.857142857142854 '0-18']\n",
      "['bra' 'ios' 'male' 24 33.86486486486486 '24-30']\n",
      "['usa' 'ios' 'female' 22 34.0 '19-23']\n",
      "['usa' 'android' 'male' 16 34.0 '0-18']\n",
      "['tur' 'ios' 'female' 51 34.0 '41-66']\n",
      "['tur' 'ios' 'female' 23 34.0 '19-23']\n",
      "['fra' 'ios' 'male' 26 34.0 '24-30']\n",
      "['usa' 'android' 'male' 25 34.0 '24-30']\n",
      "['tur' 'ios' 'female' 25 34.0 '24-30']\n",
      "['tur' 'ios' 'female' 26 34.0 '24-30']\n",
      "['usa' 'android' 'female' 25 34.0 '24-30']\n",
      "['usa' 'android' 'female' 42 34.0 '41-66']\n",
      "['deu' 'ios' 'female' 23 34.0 '19-23']\n",
      "['deu' 'android' 'female' 23 34.0 '19-23']\n",
      "['bra' 'ios' 'female' 54 34.0 '41-66']\n",
      "['usa' 'ios' 'male' 53 34.0 '41-66']\n",
      "['usa' 'ios' 'male' 20 34.0 '19-23']\n",
      "['fra' 'android' 'female' 35 34.0 '31-40']\n",
      "['can' 'android' 'female' 43 34.0 '41-66']\n",
      "['bra' 'ios' 'female' 27 34.0 '24-30']\n",
      "['bra' 'ios' 'male' 19 34.0 '19-23']\n",
      "['deu' 'android' 'male' 21 34.0 '19-23']\n",
      "['bra' 'ios' 'female' 24 34.0 '24-30']\n",
      "['usa' 'ios' 'male' 26 34.0 '24-30']\n",
      "['deu' 'ios' 'female' 22 34.0 '19-23']\n",
      "['usa' 'android' 'female' 21 34.18518518518518 '19-23']\n",
      "['bra' 'ios' 'female' 26 34.333333333333336 '24-30']\n",
      "['usa' 'android' 'male' 28 34.38461538461539 '24-30']\n",
      "['deu' 'android' 'female' 25 34.45454545454545 '24-30']\n",
      "['usa' 'android' 'male' 17 34.45454545454545 '0-18']\n",
      "['tur' 'android' 'female' 16 34.55555555555556 '0-18']\n",
      "['usa' 'ios' 'female' 33 34.55555555555556 '31-40']\n",
      "['bra' 'android' 'female' 38 34.55555555555556 '31-40']\n",
      "['usa' 'ios' 'male' 18 34.57692307692308 '0-18']\n",
      "['usa' 'android' 'female' 17 34.625 '0-18']\n",
      "['fra' 'android' 'female' 17 34.65217391304348 '0-18']\n",
      "['usa' 'android' 'male' 15 34.663716814159294 '0-18']\n",
      "['usa' 'android' 'male' 22 34.714285714285715 '19-23']\n",
      "['usa' 'ios' 'male' 16 34.714285714285715 '0-18']\n",
      "['usa' 'ios' 'female' 47 34.714285714285715 '41-66']\n",
      "['usa' 'android' 'male' 31 34.714285714285715 '31-40']\n",
      "['usa' 'android' 'male' 35 34.714285714285715 '31-40']\n",
      "['bra' 'ios' 'male' 34 34.714285714285715 '31-40']\n",
      "['usa' 'android' 'female' 28 34.78947368421053 '24-30']\n",
      "['tur' 'ios' 'male' 17 34.806451612903224 '0-18']\n",
      "['usa' 'android' 'male' 23 34.84905660377358 '19-23']\n",
      "['bra' 'ios' 'male' 23 34.88235294117647 '19-23']\n",
      "['usa' 'android' 'female' 16 34.90163934426229 '0-18']\n",
      "['bra' 'android' 'female' 22 34.945945945945944 '19-23']\n",
      "['can' 'ios' 'male' 16 35.0 '0-18']\n",
      "['usa' 'ios' 'female' 20 35.0 '19-23']\n",
      "['deu' 'ios' 'male' 25 35.0 '24-30']\n",
      "['usa' 'android' 'female' 31 35.0 '31-40']\n",
      "['deu' 'android' 'female' 22 35.0 '19-23']\n",
      "['fra' 'ios' 'male' 22 35.0 '19-23']\n",
      "['usa' 'ios' 'female' 65 35.0 '41-66']\n",
      "['deu' 'ios' 'male' 17 35.0 '0-18']\n",
      "['bra' 'android' 'female' 31 35.09756097560975 '31-40']\n",
      "['usa' 'ios' 'male' 27 35.111111111111114 '24-30']\n",
      "['bra' 'ios' 'female' 37 35.111111111111114 '31-40']\n",
      "['usa' 'android' 'male' 18 35.19047619047619 '0-18']\n",
      "['bra' 'android' 'female' 19 35.206896551724135 '19-23']\n",
      "['bra' 'android' 'male' 19 35.21621621621622 '19-23']\n",
      "['bra' 'android' 'male' 21 35.25 '19-23']\n",
      "['usa' 'android' 'female' 49 35.25 '41-66']\n",
      "['bra' 'ios' 'male' 17 35.333333333333336 '0-18']\n",
      "['bra' 'ios' 'female' 33 35.36363636363637 '31-40']\n",
      "['deu' 'android' 'female' 24 35.36363636363637 '24-30']\n",
      "['bra' 'ios' 'female' 45 35.36363636363637 '41-66']\n",
      "['deu' 'android' 'male' 33 35.36363636363637 '31-40']\n",
      "['bra' 'android' 'male' 30 35.36363636363637 '24-30']\n",
      "['bra' 'android' 'male' 20 35.4 '19-23']\n",
      "['usa' 'android' 'male' 41 35.42857142857143 '41-66']\n",
      "['deu' 'ios' 'female' 16 35.557377049180324 '0-18']\n",
      "['bra' 'android' 'female' 17 35.666666666666664 '0-18']\n",
      "['bra' 'android' 'female' 25 35.666666666666664 '24-30']\n",
      "['usa' 'android' 'female' 35 35.666666666666664 '31-40']\n",
      "['bra' 'android' 'male' 41 35.666666666666664 '41-66']\n",
      "['tur' 'ios' 'female' 19 35.666666666666664 '19-23']\n",
      "['fra' 'android' 'male' 55 35.666666666666664 '41-66']\n",
      "['usa' 'ios' 'female' 29 35.666666666666664 '24-30']\n",
      "['fra' 'ios' 'male' 19 35.666666666666664 '19-23']\n",
      "['tur' 'android' 'male' 22 35.666666666666664 '19-23']\n",
      "['usa' 'android' 'female' 19 35.76470588235294 '19-23']\n",
      "['usa' 'ios' 'female' 21 35.8 '19-23']\n",
      "['usa' 'android' 'male' 51 35.875 '41-66']\n",
      "['tur' 'android' 'male' 24 35.92307692307692 '24-30']\n",
      "['bra' 'android' 'female' 16 35.94444444444444 '0-18']\n",
      "['can' 'android' 'male' 15 36.0 '0-18']\n",
      "['deu' 'ios' 'female' 26 36.0 '24-30']\n",
      "['usa' 'ios' 'female' 28 36.142857142857146 '24-30']\n",
      "['usa' 'android' 'male' 30 36.142857142857146 '24-30']\n",
      "['tur' 'android' 'female' 52 36.142857142857146 '41-66']\n",
      "['bra' 'android' 'male' 44 36.5 '41-66']\n",
      "['bra' 'android' 'female' 24 36.5 '24-30']\n",
      "['bra' 'ios' 'female' 18 36.5 '0-18']\n",
      "['usa' 'android' 'male' 20 36.64705882352941 '19-23']\n",
      "['fra' 'android' 'female' 16 36.72727272727273 '0-18']\n",
      "['bra' 'ios' 'female' 15 36.77777777777778 '0-18']\n",
      "['bra' 'ios' 'male' 35 36.77777777777778 '31-40']\n",
      "['usa' 'ios' 'female' 26 36.857142857142854 '24-30']\n",
      "['bra' 'ios' 'male' 15 36.878787878787875 '0-18']\n",
      "['tur' 'android' 'female' 21 37.0 '19-23']\n",
      "['bra' 'android' 'female' 56 37.0 '41-66']\n",
      "['deu' 'ios' 'male' 42 37.0 '41-66']\n",
      "['usa' 'android' 'male' 26 37.0 '24-30']\n",
      "['bra' 'android' 'male' 26 37.095238095238095 '24-30']\n",
      "['bra' 'android' 'male' 17 37.1578947368421 '0-18']\n",
      "['bra' 'ios' 'male' 22 37.18181818181818 '19-23']\n",
      "['usa' 'android' 'female' 33 37.18181818181818 '31-40']\n",
      "['bra' 'android' 'female' 21 37.292682926829265 '19-23']\n",
      "['deu' 'android' 'male' 23 37.333333333333336 '19-23']\n",
      "['tur' 'ios' 'female' 20 37.333333333333336 '19-23']\n",
      "['can' 'android' 'female' 18 37.333333333333336 '0-18']\n",
      "['deu' 'ios' 'female' 18 37.333333333333336 '0-18']\n",
      "['can' 'ios' 'male' 15 37.57142857142857 '0-18']\n",
      "['bra' 'ios' 'male' 33 37.57142857142857 '31-40']\n",
      "['fra' 'android' 'female' 15 37.57142857142857 '0-18']\n",
      "['can' 'android' 'male' 49 37.57142857142857 '41-66']\n",
      "['bra' 'android' 'female' 29 37.57142857142857 '24-30']\n",
      "['tur' 'android' 'female' 26 37.57142857142857 '24-30']\n",
      "['can' 'ios' 'male' 17 37.666666666666664 '0-18']\n",
      "['deu' 'ios' 'female' 17 37.8235294117647 '0-18']\n",
      "['usa' 'ios' 'female' 25 38.0 '24-30']\n",
      "['deu' 'android' 'male' 37 38.166666666666664 '31-40']\n",
      "['tur' 'android' 'male' 16 38.285714285714285 '0-18']\n",
      "['fra' 'ios' 'male' 31 38.375 '31-40']\n",
      "['usa' 'ios' 'female' 17 38.45945945945946 '0-18']\n",
      "['usa' 'ios' 'male' 21 38.53488372093023 '19-23']\n",
      "['bra' 'android' 'female' 15 38.714285714285715 '0-18']\n",
      "['fra' 'android' 'male' 33 39.0 '31-40']\n",
      "['fra' 'android' 'female' 21 39.0 '19-23']\n",
      "['usa' 'ios' 'male' 50 39.0 '41-66']\n",
      "['fra' 'ios' 'male' 51 39.0 '41-66']\n",
      "['deu' 'ios' 'male' 16 39.0 '0-18']\n",
      "['deu' 'android' 'female' 38 39.0 '31-40']\n",
      "['tur' 'android' 'female' 49 39.0 '41-66']\n",
      "['tur' 'android' 'male' 17 39.0 '0-18']\n",
      "['bra' 'android' 'female' 32 39.0 '31-40']\n",
      "['tur' 'android' 'male' 49 39.0 '41-66']\n",
      "['bra' 'ios' 'female' 42 39.0 '41-66']\n",
      "['bra' 'ios' 'female' 19 39.0 '19-23']\n",
      "['bra' 'ios' 'female' 25 39.0 '24-30']\n",
      "['tur' 'ios' 'female' 31 39.0 '31-40']\n",
      "['tur' 'ios' 'male' 16 39.0 '0-18']\n",
      "['usa' 'ios' 'female' 19 39.285714285714285 '19-23']\n",
      "['bra' 'android' 'male' 15 39.3448275862069 '0-18']\n",
      "['bra' 'android' 'male' 40 39.625 '31-40']\n",
      "['tur' 'android' 'male' 26 39.666666666666664 '24-30']\n",
      "['usa' 'android' 'male' 43 39.90909090909091 '41-66']\n",
      "['can' 'android' 'male' 20 40.111111111111114 '19-23']\n",
      "['can' 'android' 'male' 30 40.25 '24-30']\n",
      "['bra' 'android' 'male' 24 40.42857142857143 '24-30']\n",
      "['fra' 'android' 'male' 19 40.53846153846154 '19-23']\n",
      "['tur' 'android' 'male' 27 40.666666666666664 '24-30']\n",
      "['tur' 'ios' 'female' 21 40.666666666666664 '19-23']\n",
      "['fra' 'ios' 'male' 17 40.666666666666664 '0-18']\n",
      "['tur' 'android' 'female' 31 40.666666666666664 '31-40']\n",
      "['usa' 'ios' 'male' 31 41.0 '31-40']\n",
      "['tur' 'android' 'female' 15 41.0 '0-18']\n",
      "['fra' 'android' 'male' 23 41.30769230769231 '19-23']\n",
      "['usa' 'android' 'male' 47 41.5 '41-66']\n",
      "['tur' 'android' 'male' 25 41.5 '24-30']\n",
      "['usa' 'ios' 'female' 59 41.5 '41-66']\n",
      "['tur' 'android' 'female' 18 41.5 '0-18']\n",
      "['usa' 'ios' 'male' 30 41.72727272727273 '24-30']\n",
      "['deu' 'android' 'male' 20 41.72727272727273 '19-23']\n",
      "['tur' 'ios' 'male' 37 42.333333333333336 '31-40']\n",
      "['usa' 'ios' 'male' 28 42.333333333333336 '24-30']\n",
      "['bra' 'ios' 'male' 43 42.333333333333336 '41-66']\n",
      "['tur' 'android' 'male' 15 42.333333333333336 '0-18']\n",
      "['bra' 'android' 'female' 39 43.0 '31-40']\n",
      "['tur' 'android' 'female' 32 43.0 '31-40']\n",
      "['bra' 'android' 'female' 43 44.0 '41-66']\n",
      "['bra' 'ios' 'female' 22 44.0 '19-23']\n",
      "['tur' 'ios' 'female' 18 44.0 '0-18']\n",
      "['tur' 'ios' 'male' 24 45.0 '24-30']\n",
      "['deu' 'android' 'male' 34 45.0 '31-40']\n",
      "['bra' 'android' 'female' 30 45.666666666666664 '24-30']\n",
      "['usa' 'android' 'female' 61 45.666666666666664 '41-66']\n",
      "['deu' 'android' 'male' 15 46.5 '0-18']\n",
      "['usa' 'ios' 'male' 59 46.5 '41-66']\n",
      "['usa' 'android' 'female' 47 49.0 '41-66']\n",
      "['deu' 'android' 'female' 36 49.0 '31-40']\n",
      "['deu' 'android' 'female' 51 49.0 '41-66']\n",
      "['fra' 'ios' 'male' 20 49.0 '19-23']\n",
      "['deu' 'ios' 'male' 20 49.0 '19-23']\n",
      "['usa' 'ios' 'male' 32 54.0 '31-40']\n",
      "['bra' 'android' 'male' 46 59.0 '41-66']\n",
      "['fra' 'android' 'female' 24 59.0 '24-30']\n",
      "['usa' 'android' 'male' 36 59.0 '31-40']\n"
     ]
    }
   ],
   "source": [
    "for row in agg_df.values:\n",
    "    print(row)"
   ],
   "metadata": {
    "collapsed": false,
    "pycharm": {
     "name": "#%%\n"
    }
   }
  },
  {
   "cell_type": "code",
   "execution_count": 35,
   "outputs": [
    {
     "data": {
      "text/plain": "    COUNTRY   SOURCE     SEX  AGE  PRICE age_categori  \\\n0       deu  android    male   26    9.0        24-30   \n1       usa      ios  female   38   19.0        31-40   \n2       tur      ios    male   47   19.0        41-66   \n3       tur  android    male   21   19.0        19-23   \n4       fra  android    male   18   19.0         0-18   \n..      ...      ...     ...  ...    ...          ...   \n343     deu      ios    male   20   49.0        19-23   \n344     usa      ios    male   32   54.0        31-40   \n345     bra  android    male   46   59.0        41-66   \n346     fra  android  female   24   59.0        24-30   \n347     usa  android    male   36   59.0        31-40   \n\n        customers_level_based  \n0      DEU_ANDROID_MALE_24-30  \n1        USA_IOS_FEMALE_31-40  \n2          TUR_IOS_MALE_41-66  \n3      TUR_ANDROID_MALE_19-23  \n4       FRA_ANDROID_MALE_0-18  \n..                        ...  \n343        DEU_IOS_MALE_19-23  \n344        USA_IOS_MALE_31-40  \n345    BRA_ANDROID_MALE_41-66  \n346  FRA_ANDROID_FEMALE_24-30  \n347    USA_ANDROID_MALE_31-40  \n\n[348 rows x 7 columns]",
      "text/html": "<div>\n<style scoped>\n    .dataframe tbody tr th:only-of-type {\n        vertical-align: middle;\n    }\n\n    .dataframe tbody tr th {\n        vertical-align: top;\n    }\n\n    .dataframe thead th {\n        text-align: right;\n    }\n</style>\n<table border=\"1\" class=\"dataframe\">\n  <thead>\n    <tr style=\"text-align: right;\">\n      <th></th>\n      <th>COUNTRY</th>\n      <th>SOURCE</th>\n      <th>SEX</th>\n      <th>AGE</th>\n      <th>PRICE</th>\n      <th>age_categori</th>\n      <th>customers_level_based</th>\n    </tr>\n  </thead>\n  <tbody>\n    <tr>\n      <th>0</th>\n      <td>deu</td>\n      <td>android</td>\n      <td>male</td>\n      <td>26</td>\n      <td>9.0</td>\n      <td>24-30</td>\n      <td>DEU_ANDROID_MALE_24-30</td>\n    </tr>\n    <tr>\n      <th>1</th>\n      <td>usa</td>\n      <td>ios</td>\n      <td>female</td>\n      <td>38</td>\n      <td>19.0</td>\n      <td>31-40</td>\n      <td>USA_IOS_FEMALE_31-40</td>\n    </tr>\n    <tr>\n      <th>2</th>\n      <td>tur</td>\n      <td>ios</td>\n      <td>male</td>\n      <td>47</td>\n      <td>19.0</td>\n      <td>41-66</td>\n      <td>TUR_IOS_MALE_41-66</td>\n    </tr>\n    <tr>\n      <th>3</th>\n      <td>tur</td>\n      <td>android</td>\n      <td>male</td>\n      <td>21</td>\n      <td>19.0</td>\n      <td>19-23</td>\n      <td>TUR_ANDROID_MALE_19-23</td>\n    </tr>\n    <tr>\n      <th>4</th>\n      <td>fra</td>\n      <td>android</td>\n      <td>male</td>\n      <td>18</td>\n      <td>19.0</td>\n      <td>0-18</td>\n      <td>FRA_ANDROID_MALE_0-18</td>\n    </tr>\n    <tr>\n      <th>...</th>\n      <td>...</td>\n      <td>...</td>\n      <td>...</td>\n      <td>...</td>\n      <td>...</td>\n      <td>...</td>\n      <td>...</td>\n    </tr>\n    <tr>\n      <th>343</th>\n      <td>deu</td>\n      <td>ios</td>\n      <td>male</td>\n      <td>20</td>\n      <td>49.0</td>\n      <td>19-23</td>\n      <td>DEU_IOS_MALE_19-23</td>\n    </tr>\n    <tr>\n      <th>344</th>\n      <td>usa</td>\n      <td>ios</td>\n      <td>male</td>\n      <td>32</td>\n      <td>54.0</td>\n      <td>31-40</td>\n      <td>USA_IOS_MALE_31-40</td>\n    </tr>\n    <tr>\n      <th>345</th>\n      <td>bra</td>\n      <td>android</td>\n      <td>male</td>\n      <td>46</td>\n      <td>59.0</td>\n      <td>41-66</td>\n      <td>BRA_ANDROID_MALE_41-66</td>\n    </tr>\n    <tr>\n      <th>346</th>\n      <td>fra</td>\n      <td>android</td>\n      <td>female</td>\n      <td>24</td>\n      <td>59.0</td>\n      <td>24-30</td>\n      <td>FRA_ANDROID_FEMALE_24-30</td>\n    </tr>\n    <tr>\n      <th>347</th>\n      <td>usa</td>\n      <td>android</td>\n      <td>male</td>\n      <td>36</td>\n      <td>59.0</td>\n      <td>31-40</td>\n      <td>USA_ANDROID_MALE_31-40</td>\n    </tr>\n  </tbody>\n</table>\n<p>348 rows × 7 columns</p>\n</div>"
     },
     "execution_count": 35,
     "metadata": {},
     "output_type": "execute_result"
    }
   ],
   "source": [
    "[row[0].upper() + \"_\" + row[1].upper() + \"_\" + row[2].upper() + \"_\" + row[5].upper() for row in agg_df.values]\n",
    "\n",
    "agg_df[\"customers_level_based\"] = [row[0].upper() + \"_\" + row[1].upper() + \"_\" + row[2].upper() + \"_\" + row[5].upper() for row in agg_df.values]\n",
    "\n",
    "agg_df"
   ],
   "metadata": {
    "collapsed": false,
    "pycharm": {
     "name": "#%%\n"
    }
   }
  },
  {
   "cell_type": "code",
   "execution_count": 36,
   "outputs": [
    {
     "data": {
      "text/plain": "        customers_level_based  PRICE\n0      DEU_ANDROID_MALE_24-30    9.0\n1        USA_IOS_FEMALE_31-40   19.0\n2          TUR_IOS_MALE_41-66   19.0\n3      TUR_ANDROID_MALE_19-23   19.0\n4       FRA_ANDROID_MALE_0-18   19.0\n..                        ...    ...\n343        DEU_IOS_MALE_19-23   49.0\n344        USA_IOS_MALE_31-40   54.0\n345    BRA_ANDROID_MALE_41-66   59.0\n346  FRA_ANDROID_FEMALE_24-30   59.0\n347    USA_ANDROID_MALE_31-40   59.0\n\n[348 rows x 2 columns]",
      "text/html": "<div>\n<style scoped>\n    .dataframe tbody tr th:only-of-type {\n        vertical-align: middle;\n    }\n\n    .dataframe tbody tr th {\n        vertical-align: top;\n    }\n\n    .dataframe thead th {\n        text-align: right;\n    }\n</style>\n<table border=\"1\" class=\"dataframe\">\n  <thead>\n    <tr style=\"text-align: right;\">\n      <th></th>\n      <th>customers_level_based</th>\n      <th>PRICE</th>\n    </tr>\n  </thead>\n  <tbody>\n    <tr>\n      <th>0</th>\n      <td>DEU_ANDROID_MALE_24-30</td>\n      <td>9.0</td>\n    </tr>\n    <tr>\n      <th>1</th>\n      <td>USA_IOS_FEMALE_31-40</td>\n      <td>19.0</td>\n    </tr>\n    <tr>\n      <th>2</th>\n      <td>TUR_IOS_MALE_41-66</td>\n      <td>19.0</td>\n    </tr>\n    <tr>\n      <th>3</th>\n      <td>TUR_ANDROID_MALE_19-23</td>\n      <td>19.0</td>\n    </tr>\n    <tr>\n      <th>4</th>\n      <td>FRA_ANDROID_MALE_0-18</td>\n      <td>19.0</td>\n    </tr>\n    <tr>\n      <th>...</th>\n      <td>...</td>\n      <td>...</td>\n    </tr>\n    <tr>\n      <th>343</th>\n      <td>DEU_IOS_MALE_19-23</td>\n      <td>49.0</td>\n    </tr>\n    <tr>\n      <th>344</th>\n      <td>USA_IOS_MALE_31-40</td>\n      <td>54.0</td>\n    </tr>\n    <tr>\n      <th>345</th>\n      <td>BRA_ANDROID_MALE_41-66</td>\n      <td>59.0</td>\n    </tr>\n    <tr>\n      <th>346</th>\n      <td>FRA_ANDROID_FEMALE_24-30</td>\n      <td>59.0</td>\n    </tr>\n    <tr>\n      <th>347</th>\n      <td>USA_ANDROID_MALE_31-40</td>\n      <td>59.0</td>\n    </tr>\n  </tbody>\n</table>\n<p>348 rows × 2 columns</p>\n</div>"
     },
     "execution_count": 36,
     "metadata": {},
     "output_type": "execute_result"
    }
   ],
   "source": [
    "agg_df = agg_df[[\"customers_level_based\", \"PRICE\"]]\n",
    "agg_df"
   ],
   "metadata": {
    "collapsed": false,
    "pycharm": {
     "name": "#%%\n"
    }
   }
  },
  {
   "cell_type": "markdown",
   "source": [
    "# Görev 7: Yeni müşterileri (personaları) segmentlereayırınız."
   ],
   "metadata": {
    "collapsed": false,
    "pycharm": {
     "name": "#%% md\n"
    }
   }
  },
  {
   "cell_type": "code",
   "execution_count": 37,
   "outputs": [
    {
     "data": {
      "text/plain": "BRA_ANDROID_FEMALE_24-30    7\nUSA_IOS_FEMALE_24-30        7\nBRA_ANDROID_MALE_24-30      7\nUSA_ANDROID_MALE_41-66      7\nUSA_ANDROID_MALE_24-30      7\n                           ..\nCAN_IOS_MALE_24-30          1\nTUR_ANDROID_MALE_31-40      1\nCAN_IOS_MALE_31-40          1\nCAN_ANDROID_FEMALE_24-30    1\nTUR_IOS_MALE_24-30          1\nName: customers_level_based, Length: 109, dtype: int64"
     },
     "execution_count": 37,
     "metadata": {},
     "output_type": "execute_result"
    }
   ],
   "source": [
    "agg_df[\"customers_level_based\"].value_counts()"
   ],
   "metadata": {
    "collapsed": false,
    "pycharm": {
     "name": "#%%\n"
    }
   }
  },
  {
   "cell_type": "code",
   "execution_count": 39,
   "outputs": [
    {
     "data": {
      "text/plain": "                              PRICE\ncustomers_level_based              \nBRA_ANDROID_FEMALE_0-18   35.645303\nBRA_ANDROID_FEMALE_19-23  34.077340\nBRA_ANDROID_FEMALE_24-30  33.863946\nBRA_ANDROID_FEMALE_31-40  34.898326\nBRA_ANDROID_FEMALE_41-66  36.737179\n...                             ...\nUSA_IOS_MALE_0-18         33.983495\nUSA_IOS_MALE_19-23        34.901872\nUSA_IOS_MALE_24-30        34.838143\nUSA_IOS_MALE_31-40        36.206324\nUSA_IOS_MALE_41-66        35.750000\n\n[109 rows x 1 columns]",
      "text/html": "<div>\n<style scoped>\n    .dataframe tbody tr th:only-of-type {\n        vertical-align: middle;\n    }\n\n    .dataframe tbody tr th {\n        vertical-align: top;\n    }\n\n    .dataframe thead th {\n        text-align: right;\n    }\n</style>\n<table border=\"1\" class=\"dataframe\">\n  <thead>\n    <tr style=\"text-align: right;\">\n      <th></th>\n      <th>PRICE</th>\n    </tr>\n    <tr>\n      <th>customers_level_based</th>\n      <th></th>\n    </tr>\n  </thead>\n  <tbody>\n    <tr>\n      <th>BRA_ANDROID_FEMALE_0-18</th>\n      <td>35.645303</td>\n    </tr>\n    <tr>\n      <th>BRA_ANDROID_FEMALE_19-23</th>\n      <td>34.077340</td>\n    </tr>\n    <tr>\n      <th>BRA_ANDROID_FEMALE_24-30</th>\n      <td>33.863946</td>\n    </tr>\n    <tr>\n      <th>BRA_ANDROID_FEMALE_31-40</th>\n      <td>34.898326</td>\n    </tr>\n    <tr>\n      <th>BRA_ANDROID_FEMALE_41-66</th>\n      <td>36.737179</td>\n    </tr>\n    <tr>\n      <th>...</th>\n      <td>...</td>\n    </tr>\n    <tr>\n      <th>USA_IOS_MALE_0-18</th>\n      <td>33.983495</td>\n    </tr>\n    <tr>\n      <th>USA_IOS_MALE_19-23</th>\n      <td>34.901872</td>\n    </tr>\n    <tr>\n      <th>USA_IOS_MALE_24-30</th>\n      <td>34.838143</td>\n    </tr>\n    <tr>\n      <th>USA_IOS_MALE_31-40</th>\n      <td>36.206324</td>\n    </tr>\n    <tr>\n      <th>USA_IOS_MALE_41-66</th>\n      <td>35.750000</td>\n    </tr>\n  </tbody>\n</table>\n<p>109 rows × 1 columns</p>\n</div>"
     },
     "execution_count": 39,
     "metadata": {},
     "output_type": "execute_result"
    }
   ],
   "source": [
    "agg_df = agg_df.groupby(\"customers_level_based\").agg({\"PRICE\": \"mean\"})\n",
    "agg_df"
   ],
   "metadata": {
    "collapsed": false,
    "pycharm": {
     "name": "#%%\n"
    }
   }
  },
  {
   "cell_type": "code",
   "execution_count": 40,
   "outputs": [
    {
     "data": {
      "text/plain": "        customers_level_based      PRICE\n0     BRA_ANDROID_FEMALE_0-18  35.645303\n1    BRA_ANDROID_FEMALE_19-23  34.077340\n2    BRA_ANDROID_FEMALE_24-30  33.863946\n3    BRA_ANDROID_FEMALE_31-40  34.898326\n4    BRA_ANDROID_FEMALE_41-66  36.737179\n..                        ...        ...\n104         USA_IOS_MALE_0-18  33.983495\n105        USA_IOS_MALE_19-23  34.901872\n106        USA_IOS_MALE_24-30  34.838143\n107        USA_IOS_MALE_31-40  36.206324\n108        USA_IOS_MALE_41-66  35.750000\n\n[109 rows x 2 columns]",
      "text/html": "<div>\n<style scoped>\n    .dataframe tbody tr th:only-of-type {\n        vertical-align: middle;\n    }\n\n    .dataframe tbody tr th {\n        vertical-align: top;\n    }\n\n    .dataframe thead th {\n        text-align: right;\n    }\n</style>\n<table border=\"1\" class=\"dataframe\">\n  <thead>\n    <tr style=\"text-align: right;\">\n      <th></th>\n      <th>customers_level_based</th>\n      <th>PRICE</th>\n    </tr>\n  </thead>\n  <tbody>\n    <tr>\n      <th>0</th>\n      <td>BRA_ANDROID_FEMALE_0-18</td>\n      <td>35.645303</td>\n    </tr>\n    <tr>\n      <th>1</th>\n      <td>BRA_ANDROID_FEMALE_19-23</td>\n      <td>34.077340</td>\n    </tr>\n    <tr>\n      <th>2</th>\n      <td>BRA_ANDROID_FEMALE_24-30</td>\n      <td>33.863946</td>\n    </tr>\n    <tr>\n      <th>3</th>\n      <td>BRA_ANDROID_FEMALE_31-40</td>\n      <td>34.898326</td>\n    </tr>\n    <tr>\n      <th>4</th>\n      <td>BRA_ANDROID_FEMALE_41-66</td>\n      <td>36.737179</td>\n    </tr>\n    <tr>\n      <th>...</th>\n      <td>...</td>\n      <td>...</td>\n    </tr>\n    <tr>\n      <th>104</th>\n      <td>USA_IOS_MALE_0-18</td>\n      <td>33.983495</td>\n    </tr>\n    <tr>\n      <th>105</th>\n      <td>USA_IOS_MALE_19-23</td>\n      <td>34.901872</td>\n    </tr>\n    <tr>\n      <th>106</th>\n      <td>USA_IOS_MALE_24-30</td>\n      <td>34.838143</td>\n    </tr>\n    <tr>\n      <th>107</th>\n      <td>USA_IOS_MALE_31-40</td>\n      <td>36.206324</td>\n    </tr>\n    <tr>\n      <th>108</th>\n      <td>USA_IOS_MALE_41-66</td>\n      <td>35.750000</td>\n    </tr>\n  </tbody>\n</table>\n<p>109 rows × 2 columns</p>\n</div>"
     },
     "execution_count": 40,
     "metadata": {},
     "output_type": "execute_result"
    }
   ],
   "source": [
    "agg_df = agg_df.reset_index()\n",
    "agg_df"
   ],
   "metadata": {
    "collapsed": false,
    "pycharm": {
     "name": "#%%\n"
    }
   }
  },
  {
   "cell_type": "code",
   "execution_count": 44,
   "outputs": [
    {
     "data": {
      "text/plain": "        customers_level_based      PRICE SEGMENT\n0     BRA_ANDROID_FEMALE_0-18  35.645303       B\n1    BRA_ANDROID_FEMALE_19-23  34.077340       C\n2    BRA_ANDROID_FEMALE_24-30  33.863946       C\n3    BRA_ANDROID_FEMALE_31-40  34.898326       B\n4    BRA_ANDROID_FEMALE_41-66  36.737179       A\n..                        ...        ...     ...\n104         USA_IOS_MALE_0-18  33.983495       C\n105        USA_IOS_MALE_19-23  34.901872       B\n106        USA_IOS_MALE_24-30  34.838143       B\n107        USA_IOS_MALE_31-40  36.206324       A\n108        USA_IOS_MALE_41-66  35.750000       B\n\n[109 rows x 3 columns]",
      "text/html": "<div>\n<style scoped>\n    .dataframe tbody tr th:only-of-type {\n        vertical-align: middle;\n    }\n\n    .dataframe tbody tr th {\n        vertical-align: top;\n    }\n\n    .dataframe thead th {\n        text-align: right;\n    }\n</style>\n<table border=\"1\" class=\"dataframe\">\n  <thead>\n    <tr style=\"text-align: right;\">\n      <th></th>\n      <th>customers_level_based</th>\n      <th>PRICE</th>\n      <th>SEGMENT</th>\n    </tr>\n  </thead>\n  <tbody>\n    <tr>\n      <th>0</th>\n      <td>BRA_ANDROID_FEMALE_0-18</td>\n      <td>35.645303</td>\n      <td>B</td>\n    </tr>\n    <tr>\n      <th>1</th>\n      <td>BRA_ANDROID_FEMALE_19-23</td>\n      <td>34.077340</td>\n      <td>C</td>\n    </tr>\n    <tr>\n      <th>2</th>\n      <td>BRA_ANDROID_FEMALE_24-30</td>\n      <td>33.863946</td>\n      <td>C</td>\n    </tr>\n    <tr>\n      <th>3</th>\n      <td>BRA_ANDROID_FEMALE_31-40</td>\n      <td>34.898326</td>\n      <td>B</td>\n    </tr>\n    <tr>\n      <th>4</th>\n      <td>BRA_ANDROID_FEMALE_41-66</td>\n      <td>36.737179</td>\n      <td>A</td>\n    </tr>\n    <tr>\n      <th>...</th>\n      <td>...</td>\n      <td>...</td>\n      <td>...</td>\n    </tr>\n    <tr>\n      <th>104</th>\n      <td>USA_IOS_MALE_0-18</td>\n      <td>33.983495</td>\n      <td>C</td>\n    </tr>\n    <tr>\n      <th>105</th>\n      <td>USA_IOS_MALE_19-23</td>\n      <td>34.901872</td>\n      <td>B</td>\n    </tr>\n    <tr>\n      <th>106</th>\n      <td>USA_IOS_MALE_24-30</td>\n      <td>34.838143</td>\n      <td>B</td>\n    </tr>\n    <tr>\n      <th>107</th>\n      <td>USA_IOS_MALE_31-40</td>\n      <td>36.206324</td>\n      <td>A</td>\n    </tr>\n    <tr>\n      <th>108</th>\n      <td>USA_IOS_MALE_41-66</td>\n      <td>35.750000</td>\n      <td>B</td>\n    </tr>\n  </tbody>\n</table>\n<p>109 rows × 3 columns</p>\n</div>"
     },
     "execution_count": 44,
     "metadata": {},
     "output_type": "execute_result"
    }
   ],
   "source": [
    "agg_df[\"SEGMENT\"] = pd.qcut(agg_df[\"PRICE\"], 4, labels=[\"D\", \"C\", \"B\", \"A\"])\n",
    "agg_df"
   ],
   "metadata": {
    "collapsed": false,
    "pycharm": {
     "name": "#%%\n"
    }
   }
  },
  {
   "cell_type": "code",
   "execution_count": 45,
   "outputs": [
    {
     "data": {
      "text/plain": "             PRICE\nSEGMENT           \nD        29.206780\nC        33.509674\nB        34.999645\nA        38.691234",
      "text/html": "<div>\n<style scoped>\n    .dataframe tbody tr th:only-of-type {\n        vertical-align: middle;\n    }\n\n    .dataframe tbody tr th {\n        vertical-align: top;\n    }\n\n    .dataframe thead th {\n        text-align: right;\n    }\n</style>\n<table border=\"1\" class=\"dataframe\">\n  <thead>\n    <tr style=\"text-align: right;\">\n      <th></th>\n      <th>PRICE</th>\n    </tr>\n    <tr>\n      <th>SEGMENT</th>\n      <th></th>\n    </tr>\n  </thead>\n  <tbody>\n    <tr>\n      <th>D</th>\n      <td>29.206780</td>\n    </tr>\n    <tr>\n      <th>C</th>\n      <td>33.509674</td>\n    </tr>\n    <tr>\n      <th>B</th>\n      <td>34.999645</td>\n    </tr>\n    <tr>\n      <th>A</th>\n      <td>38.691234</td>\n    </tr>\n  </tbody>\n</table>\n</div>"
     },
     "execution_count": 45,
     "metadata": {},
     "output_type": "execute_result"
    }
   ],
   "source": [
    "agg_df.groupby(\"SEGMENT\").agg({\"PRICE\": \"mean\"})"
   ],
   "metadata": {
    "collapsed": false,
    "pycharm": {
     "name": "#%%\n"
    }
   }
  },
  {
   "cell_type": "markdown",
   "source": [
    "## Görev 8: Yeni gelen müşterileri sınıflandırıp, ne kadar gelir getirebileceklerini  tahmin ediniz."
   ],
   "metadata": {
    "collapsed": false,
    "pycharm": {
     "name": "#%% md\n"
    }
   }
  },
  {
   "cell_type": "code",
   "execution_count": 47,
   "outputs": [
    {
     "data": {
      "text/plain": "       customers_level_based      PRICE SEGMENT\n72  TUR_ANDROID_FEMALE_31-40  41.833333       A",
      "text/html": "<div>\n<style scoped>\n    .dataframe tbody tr th:only-of-type {\n        vertical-align: middle;\n    }\n\n    .dataframe tbody tr th {\n        vertical-align: top;\n    }\n\n    .dataframe thead th {\n        text-align: right;\n    }\n</style>\n<table border=\"1\" class=\"dataframe\">\n  <thead>\n    <tr style=\"text-align: right;\">\n      <th></th>\n      <th>customers_level_based</th>\n      <th>PRICE</th>\n      <th>SEGMENT</th>\n    </tr>\n  </thead>\n  <tbody>\n    <tr>\n      <th>72</th>\n      <td>TUR_ANDROID_FEMALE_31-40</td>\n      <td>41.833333</td>\n      <td>A</td>\n    </tr>\n  </tbody>\n</table>\n</div>"
     },
     "execution_count": 47,
     "metadata": {},
     "output_type": "execute_result"
    }
   ],
   "source": [
    "new_user = \"TUR_ANDROID_FEMALE_31-40\"\n",
    "agg_df[agg_df[\"customers_level_based\"] == new_user]"
   ],
   "metadata": {
    "collapsed": false,
    "pycharm": {
     "name": "#%%\n"
    }
   }
  },
  {
   "cell_type": "code",
   "execution_count": 48,
   "outputs": [
    {
     "data": {
      "text/plain": "   customers_level_based      PRICE SEGMENT\n63  FRA_IOS_FEMALE_31-40  32.818182       C",
      "text/html": "<div>\n<style scoped>\n    .dataframe tbody tr th:only-of-type {\n        vertical-align: middle;\n    }\n\n    .dataframe tbody tr th {\n        vertical-align: top;\n    }\n\n    .dataframe thead th {\n        text-align: right;\n    }\n</style>\n<table border=\"1\" class=\"dataframe\">\n  <thead>\n    <tr style=\"text-align: right;\">\n      <th></th>\n      <th>customers_level_based</th>\n      <th>PRICE</th>\n      <th>SEGMENT</th>\n    </tr>\n  </thead>\n  <tbody>\n    <tr>\n      <th>63</th>\n      <td>FRA_IOS_FEMALE_31-40</td>\n      <td>32.818182</td>\n      <td>C</td>\n    </tr>\n  </tbody>\n</table>\n</div>"
     },
     "execution_count": 48,
     "metadata": {},
     "output_type": "execute_result"
    }
   ],
   "source": [
    "new_user = \"FRA_IOS_FEMALE_31-40\"\n",
    "agg_df[agg_df[\"customers_level_based\"] == new_user]"
   ],
   "metadata": {
    "collapsed": false,
    "pycharm": {
     "name": "#%%\n"
    }
   }
  },
  {
   "cell_type": "code",
   "execution_count": null,
   "outputs": [],
   "source": [],
   "metadata": {
    "collapsed": false,
    "pycharm": {
     "name": "#%%\n"
    }
   }
  }
 ],
 "metadata": {
  "kernelspec": {
   "display_name": "Python 3",
   "language": "python",
   "name": "python3"
  },
  "language_info": {
   "codemirror_mode": {
    "name": "ipython",
    "version": 2
   },
   "file_extension": ".py",
   "mimetype": "text/x-python",
   "name": "python",
   "nbconvert_exporter": "python",
   "pygments_lexer": "ipython2",
   "version": "2.7.6"
  }
 },
 "nbformat": 4,
 "nbformat_minor": 0
}